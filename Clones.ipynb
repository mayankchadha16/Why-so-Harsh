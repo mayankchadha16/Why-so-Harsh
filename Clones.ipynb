{
  "cells": [
    {
      "cell_type": "markdown",
      "metadata": {
        "id": "udXefvuc1-eJ"
      },
      "source": [
        "# Pre-Processing"
      ]
    },
    {
      "cell_type": "code",
      "source": [
        "from google.colab import drive\n",
        "drive.mount('/content/drive')"
      ],
      "metadata": {
        "colab": {
          "base_uri": "https://localhost:8080/"
        },
        "id": "NUSVIA8j2HTk",
        "outputId": "50964ce8-c630-4974-810f-9ab2d6a299b4"
      },
      "execution_count": 311,
      "outputs": [
        {
          "output_type": "stream",
          "name": "stdout",
          "text": [
            "Drive already mounted at /content/drive; to attempt to forcibly remount, call drive.mount(\"/content/drive\", force_remount=True).\n"
          ]
        }
      ]
    },
    {
      "cell_type": "code",
      "execution_count": 312,
      "metadata": {
        "colab": {
          "base_uri": "https://localhost:8080/"
        },
        "id": "rlZI50X61-eN",
        "outputId": "e573f3c7-6167-4e66-e9e4-ab28aec61cfa"
      },
      "outputs": [
        {
          "output_type": "stream",
          "name": "stderr",
          "text": [
            "[nltk_data] Downloading package wordnet to /root/nltk_data...\n",
            "[nltk_data]   Package wordnet is already up-to-date!\n",
            "[nltk_data] Downloading package omw-1.4 to /root/nltk_data...\n",
            "[nltk_data]   Package omw-1.4 is already up-to-date!\n",
            "[nltk_data] Downloading package stopwords to /root/nltk_data...\n",
            "[nltk_data]   Package stopwords is already up-to-date!\n"
          ]
        }
      ],
      "source": [
        "# Let us start by importing the library from the package directory\n",
        "import pandas as pd\n",
        "import numpy as np\n",
        "import nltk\n",
        "nltk.download('wordnet')\n",
        "nltk.download('omw-1.4')\n",
        "nltk.download('stopwords')\n",
        "\n",
        "# Read the data\n",
        "# df = pd.read_csv(\"./train.csv\")\n",
        "df_train = pd.read_csv(\"drive/MyDrive/MLProject/train.csv\")\n",
        "df_test = pd.read_csv(\"drive/MyDrive/MLProject/test.csv\")\n",
        "\n",
        "# Cosmetics for matplotlib\n",
        "import matplotlib.pyplot as plt\n",
        "from matplotlib import rcParams\n",
        "import seaborn as sns\n",
        "\n",
        "rcParams['figure.figsize'] = 18, 9\n",
        "rcParams['axes.spines.top'] = False\n",
        "rcParams['axes.spines.right'] = False\n",
        "rcParams['lines.linewidth'] = 2.5\n",
        "rcParams['xtick.labelsize'] = 'smaller'\n",
        "rcParams['ytick.labelsize'] = 'smaller'\n",
        "rcParams['axes.labelpad'] = 15"
      ]
    },
    {
      "cell_type": "code",
      "execution_count": 313,
      "metadata": {
        "colab": {
          "base_uri": "https://localhost:8080/",
          "height": 206
        },
        "id": "JLj6XOU81-eV",
        "outputId": "ff6cdc47-108b-4392-8e1b-053682191896"
      },
      "outputs": [
        {
          "output_type": "execute_result",
          "data": {
            "text/plain": [
              "                     id                                               text  \\\n",
              "0  a8be7c5d4527adbbf15f  \", 6 December 2007 (UTC)\\nI am interested, not...   \n",
              "1  0b7ca73f388222aad64d  I added about three missing parameters to temp...   \n",
              "2  db934381501872ba6f38  SANDBOX?? \\n\\nI DID YOUR MADRE DID IN THE SANDBOX   \n",
              "3  228015c4a87c4b1f09a7  why good sir? Why? \\n\\nYou, sir, obviously do ...   \n",
              "4  b18f26cfa1408b52e949  \"\\n\\n Source \\n\\nIncase I forget, or someone e...   \n",
              "\n",
              "   harsh  extremely_harsh  vulgar  threatening  disrespect  targeted_hate  \n",
              "0      0                0       0            0           0              0  \n",
              "1      0                0       0            0           0              0  \n",
              "2      1                0       0            0           0              0  \n",
              "3      1                0       1            1           1              0  \n",
              "4      0                0       0            0           0              0  "
            ],
            "text/html": [
              "\n",
              "  <div id=\"df-6087dbd3-df9f-4a0d-9b9e-f3e433465a09\">\n",
              "    <div class=\"colab-df-container\">\n",
              "      <div>\n",
              "<style scoped>\n",
              "    .dataframe tbody tr th:only-of-type {\n",
              "        vertical-align: middle;\n",
              "    }\n",
              "\n",
              "    .dataframe tbody tr th {\n",
              "        vertical-align: top;\n",
              "    }\n",
              "\n",
              "    .dataframe thead th {\n",
              "        text-align: right;\n",
              "    }\n",
              "</style>\n",
              "<table border=\"1\" class=\"dataframe\">\n",
              "  <thead>\n",
              "    <tr style=\"text-align: right;\">\n",
              "      <th></th>\n",
              "      <th>id</th>\n",
              "      <th>text</th>\n",
              "      <th>harsh</th>\n",
              "      <th>extremely_harsh</th>\n",
              "      <th>vulgar</th>\n",
              "      <th>threatening</th>\n",
              "      <th>disrespect</th>\n",
              "      <th>targeted_hate</th>\n",
              "    </tr>\n",
              "  </thead>\n",
              "  <tbody>\n",
              "    <tr>\n",
              "      <th>0</th>\n",
              "      <td>a8be7c5d4527adbbf15f</td>\n",
              "      <td>\", 6 December 2007 (UTC)\\nI am interested, not...</td>\n",
              "      <td>0</td>\n",
              "      <td>0</td>\n",
              "      <td>0</td>\n",
              "      <td>0</td>\n",
              "      <td>0</td>\n",
              "      <td>0</td>\n",
              "    </tr>\n",
              "    <tr>\n",
              "      <th>1</th>\n",
              "      <td>0b7ca73f388222aad64d</td>\n",
              "      <td>I added about three missing parameters to temp...</td>\n",
              "      <td>0</td>\n",
              "      <td>0</td>\n",
              "      <td>0</td>\n",
              "      <td>0</td>\n",
              "      <td>0</td>\n",
              "      <td>0</td>\n",
              "    </tr>\n",
              "    <tr>\n",
              "      <th>2</th>\n",
              "      <td>db934381501872ba6f38</td>\n",
              "      <td>SANDBOX?? \\n\\nI DID YOUR MADRE DID IN THE SANDBOX</td>\n",
              "      <td>1</td>\n",
              "      <td>0</td>\n",
              "      <td>0</td>\n",
              "      <td>0</td>\n",
              "      <td>0</td>\n",
              "      <td>0</td>\n",
              "    </tr>\n",
              "    <tr>\n",
              "      <th>3</th>\n",
              "      <td>228015c4a87c4b1f09a7</td>\n",
              "      <td>why good sir? Why? \\n\\nYou, sir, obviously do ...</td>\n",
              "      <td>1</td>\n",
              "      <td>0</td>\n",
              "      <td>1</td>\n",
              "      <td>1</td>\n",
              "      <td>1</td>\n",
              "      <td>0</td>\n",
              "    </tr>\n",
              "    <tr>\n",
              "      <th>4</th>\n",
              "      <td>b18f26cfa1408b52e949</td>\n",
              "      <td>\"\\n\\n Source \\n\\nIncase I forget, or someone e...</td>\n",
              "      <td>0</td>\n",
              "      <td>0</td>\n",
              "      <td>0</td>\n",
              "      <td>0</td>\n",
              "      <td>0</td>\n",
              "      <td>0</td>\n",
              "    </tr>\n",
              "  </tbody>\n",
              "</table>\n",
              "</div>\n",
              "      <button class=\"colab-df-convert\" onclick=\"convertToInteractive('df-6087dbd3-df9f-4a0d-9b9e-f3e433465a09')\"\n",
              "              title=\"Convert this dataframe to an interactive table.\"\n",
              "              style=\"display:none;\">\n",
              "        \n",
              "  <svg xmlns=\"http://www.w3.org/2000/svg\" height=\"24px\"viewBox=\"0 0 24 24\"\n",
              "       width=\"24px\">\n",
              "    <path d=\"M0 0h24v24H0V0z\" fill=\"none\"/>\n",
              "    <path d=\"M18.56 5.44l.94 2.06.94-2.06 2.06-.94-2.06-.94-.94-2.06-.94 2.06-2.06.94zm-11 1L8.5 8.5l.94-2.06 2.06-.94-2.06-.94L8.5 2.5l-.94 2.06-2.06.94zm10 10l.94 2.06.94-2.06 2.06-.94-2.06-.94-.94-2.06-.94 2.06-2.06.94z\"/><path d=\"M17.41 7.96l-1.37-1.37c-.4-.4-.92-.59-1.43-.59-.52 0-1.04.2-1.43.59L10.3 9.45l-7.72 7.72c-.78.78-.78 2.05 0 2.83L4 21.41c.39.39.9.59 1.41.59.51 0 1.02-.2 1.41-.59l7.78-7.78 2.81-2.81c.8-.78.8-2.07 0-2.86zM5.41 20L4 18.59l7.72-7.72 1.47 1.35L5.41 20z\"/>\n",
              "  </svg>\n",
              "      </button>\n",
              "      \n",
              "  <style>\n",
              "    .colab-df-container {\n",
              "      display:flex;\n",
              "      flex-wrap:wrap;\n",
              "      gap: 12px;\n",
              "    }\n",
              "\n",
              "    .colab-df-convert {\n",
              "      background-color: #E8F0FE;\n",
              "      border: none;\n",
              "      border-radius: 50%;\n",
              "      cursor: pointer;\n",
              "      display: none;\n",
              "      fill: #1967D2;\n",
              "      height: 32px;\n",
              "      padding: 0 0 0 0;\n",
              "      width: 32px;\n",
              "    }\n",
              "\n",
              "    .colab-df-convert:hover {\n",
              "      background-color: #E2EBFA;\n",
              "      box-shadow: 0px 1px 2px rgba(60, 64, 67, 0.3), 0px 1px 3px 1px rgba(60, 64, 67, 0.15);\n",
              "      fill: #174EA6;\n",
              "    }\n",
              "\n",
              "    [theme=dark] .colab-df-convert {\n",
              "      background-color: #3B4455;\n",
              "      fill: #D2E3FC;\n",
              "    }\n",
              "\n",
              "    [theme=dark] .colab-df-convert:hover {\n",
              "      background-color: #434B5C;\n",
              "      box-shadow: 0px 1px 3px 1px rgba(0, 0, 0, 0.15);\n",
              "      filter: drop-shadow(0px 1px 2px rgba(0, 0, 0, 0.3));\n",
              "      fill: #FFFFFF;\n",
              "    }\n",
              "  </style>\n",
              "\n",
              "      <script>\n",
              "        const buttonEl =\n",
              "          document.querySelector('#df-6087dbd3-df9f-4a0d-9b9e-f3e433465a09 button.colab-df-convert');\n",
              "        buttonEl.style.display =\n",
              "          google.colab.kernel.accessAllowed ? 'block' : 'none';\n",
              "\n",
              "        async function convertToInteractive(key) {\n",
              "          const element = document.querySelector('#df-6087dbd3-df9f-4a0d-9b9e-f3e433465a09');\n",
              "          const dataTable =\n",
              "            await google.colab.kernel.invokeFunction('convertToInteractive',\n",
              "                                                     [key], {});\n",
              "          if (!dataTable) return;\n",
              "\n",
              "          const docLinkHtml = 'Like what you see? Visit the ' +\n",
              "            '<a target=\"_blank\" href=https://colab.research.google.com/notebooks/data_table.ipynb>data table notebook</a>'\n",
              "            + ' to learn more about interactive tables.';\n",
              "          element.innerHTML = '';\n",
              "          dataTable['output_type'] = 'display_data';\n",
              "          await google.colab.output.renderOutput(dataTable, element);\n",
              "          const docLink = document.createElement('div');\n",
              "          docLink.innerHTML = docLinkHtml;\n",
              "          element.appendChild(docLink);\n",
              "        }\n",
              "      </script>\n",
              "    </div>\n",
              "  </div>\n",
              "  "
            ]
          },
          "metadata": {},
          "execution_count": 313
        }
      ],
      "source": [
        "# Check the first five rows of our dataset\n",
        "df_train.head()"
      ]
    },
    {
      "cell_type": "code",
      "source": [
        "df_train['text'].iloc[0]"
      ],
      "metadata": {
        "colab": {
          "base_uri": "https://localhost:8080/",
          "height": 106
        },
        "id": "TJJPvwe0OM8y",
        "outputId": "511aacae-9639-4db9-c304-cd1354964720"
      },
      "execution_count": 314,
      "outputs": [
        {
          "output_type": "execute_result",
          "data": {
            "text/plain": [
              "'\", 6 December 2007 (UTC)\\nI am interested, not in arguing, but in the policies which resolve our ongoing content dispute. Also, see Wikipedia: WikiProject United States presidential elections for what I\\'ll be working on. Also, the moneybomb closer just self-reverted on two different requests, which echoed what I would have requested.  I will rephrase #3, which I didn\\'t see an answer to, building on our agreement that \"\"moneybomb\"\" should not be a redlink: Given the deletion reversion, what should be the outline of the article called \"\"moneybomb\"\" or should it be submitted for AFD again in due time? (If the latter, see the previous version of #3.) However, this version will require a detailed answer because any ambiguity will only necessitate clarifying questions.   22:32\"'"
            ],
            "application/vnd.google.colaboratory.intrinsic+json": {
              "type": "string"
            }
          },
          "metadata": {},
          "execution_count": 314
        }
      ]
    },
    {
      "cell_type": "code",
      "source": [
        "df_train.describe()"
      ],
      "metadata": {
        "colab": {
          "base_uri": "https://localhost:8080/",
          "height": 300
        },
        "id": "5uhVg9BGFgxo",
        "outputId": "2a85578a-f008-4874-a9e3-0ca19c3830aa"
      },
      "execution_count": 315,
      "outputs": [
        {
          "output_type": "execute_result",
          "data": {
            "text/plain": [
              "              harsh  extremely_harsh        vulgar   threatening  \\\n",
              "count  89359.000000     89359.000000  89359.000000  89359.000000   \n",
              "mean       0.095782         0.010262      0.053067      0.002999   \n",
              "std        0.294294         0.100781      0.224168      0.054683   \n",
              "min        0.000000         0.000000      0.000000      0.000000   \n",
              "25%        0.000000         0.000000      0.000000      0.000000   \n",
              "50%        0.000000         0.000000      0.000000      0.000000   \n",
              "75%        0.000000         0.000000      0.000000      0.000000   \n",
              "max        1.000000         1.000000      1.000000      1.000000   \n",
              "\n",
              "         disrespect  targeted_hate  \n",
              "count  89359.000000   89359.000000  \n",
              "mean       0.049150       0.008975  \n",
              "std        0.216182       0.094311  \n",
              "min        0.000000       0.000000  \n",
              "25%        0.000000       0.000000  \n",
              "50%        0.000000       0.000000  \n",
              "75%        0.000000       0.000000  \n",
              "max        1.000000       1.000000  "
            ],
            "text/html": [
              "\n",
              "  <div id=\"df-acb5966b-f235-41d6-8bcb-281a0806c5cf\">\n",
              "    <div class=\"colab-df-container\">\n",
              "      <div>\n",
              "<style scoped>\n",
              "    .dataframe tbody tr th:only-of-type {\n",
              "        vertical-align: middle;\n",
              "    }\n",
              "\n",
              "    .dataframe tbody tr th {\n",
              "        vertical-align: top;\n",
              "    }\n",
              "\n",
              "    .dataframe thead th {\n",
              "        text-align: right;\n",
              "    }\n",
              "</style>\n",
              "<table border=\"1\" class=\"dataframe\">\n",
              "  <thead>\n",
              "    <tr style=\"text-align: right;\">\n",
              "      <th></th>\n",
              "      <th>harsh</th>\n",
              "      <th>extremely_harsh</th>\n",
              "      <th>vulgar</th>\n",
              "      <th>threatening</th>\n",
              "      <th>disrespect</th>\n",
              "      <th>targeted_hate</th>\n",
              "    </tr>\n",
              "  </thead>\n",
              "  <tbody>\n",
              "    <tr>\n",
              "      <th>count</th>\n",
              "      <td>89359.000000</td>\n",
              "      <td>89359.000000</td>\n",
              "      <td>89359.000000</td>\n",
              "      <td>89359.000000</td>\n",
              "      <td>89359.000000</td>\n",
              "      <td>89359.000000</td>\n",
              "    </tr>\n",
              "    <tr>\n",
              "      <th>mean</th>\n",
              "      <td>0.095782</td>\n",
              "      <td>0.010262</td>\n",
              "      <td>0.053067</td>\n",
              "      <td>0.002999</td>\n",
              "      <td>0.049150</td>\n",
              "      <td>0.008975</td>\n",
              "    </tr>\n",
              "    <tr>\n",
              "      <th>std</th>\n",
              "      <td>0.294294</td>\n",
              "      <td>0.100781</td>\n",
              "      <td>0.224168</td>\n",
              "      <td>0.054683</td>\n",
              "      <td>0.216182</td>\n",
              "      <td>0.094311</td>\n",
              "    </tr>\n",
              "    <tr>\n",
              "      <th>min</th>\n",
              "      <td>0.000000</td>\n",
              "      <td>0.000000</td>\n",
              "      <td>0.000000</td>\n",
              "      <td>0.000000</td>\n",
              "      <td>0.000000</td>\n",
              "      <td>0.000000</td>\n",
              "    </tr>\n",
              "    <tr>\n",
              "      <th>25%</th>\n",
              "      <td>0.000000</td>\n",
              "      <td>0.000000</td>\n",
              "      <td>0.000000</td>\n",
              "      <td>0.000000</td>\n",
              "      <td>0.000000</td>\n",
              "      <td>0.000000</td>\n",
              "    </tr>\n",
              "    <tr>\n",
              "      <th>50%</th>\n",
              "      <td>0.000000</td>\n",
              "      <td>0.000000</td>\n",
              "      <td>0.000000</td>\n",
              "      <td>0.000000</td>\n",
              "      <td>0.000000</td>\n",
              "      <td>0.000000</td>\n",
              "    </tr>\n",
              "    <tr>\n",
              "      <th>75%</th>\n",
              "      <td>0.000000</td>\n",
              "      <td>0.000000</td>\n",
              "      <td>0.000000</td>\n",
              "      <td>0.000000</td>\n",
              "      <td>0.000000</td>\n",
              "      <td>0.000000</td>\n",
              "    </tr>\n",
              "    <tr>\n",
              "      <th>max</th>\n",
              "      <td>1.000000</td>\n",
              "      <td>1.000000</td>\n",
              "      <td>1.000000</td>\n",
              "      <td>1.000000</td>\n",
              "      <td>1.000000</td>\n",
              "      <td>1.000000</td>\n",
              "    </tr>\n",
              "  </tbody>\n",
              "</table>\n",
              "</div>\n",
              "      <button class=\"colab-df-convert\" onclick=\"convertToInteractive('df-acb5966b-f235-41d6-8bcb-281a0806c5cf')\"\n",
              "              title=\"Convert this dataframe to an interactive table.\"\n",
              "              style=\"display:none;\">\n",
              "        \n",
              "  <svg xmlns=\"http://www.w3.org/2000/svg\" height=\"24px\"viewBox=\"0 0 24 24\"\n",
              "       width=\"24px\">\n",
              "    <path d=\"M0 0h24v24H0V0z\" fill=\"none\"/>\n",
              "    <path d=\"M18.56 5.44l.94 2.06.94-2.06 2.06-.94-2.06-.94-.94-2.06-.94 2.06-2.06.94zm-11 1L8.5 8.5l.94-2.06 2.06-.94-2.06-.94L8.5 2.5l-.94 2.06-2.06.94zm10 10l.94 2.06.94-2.06 2.06-.94-2.06-.94-.94-2.06-.94 2.06-2.06.94z\"/><path d=\"M17.41 7.96l-1.37-1.37c-.4-.4-.92-.59-1.43-.59-.52 0-1.04.2-1.43.59L10.3 9.45l-7.72 7.72c-.78.78-.78 2.05 0 2.83L4 21.41c.39.39.9.59 1.41.59.51 0 1.02-.2 1.41-.59l7.78-7.78 2.81-2.81c.8-.78.8-2.07 0-2.86zM5.41 20L4 18.59l7.72-7.72 1.47 1.35L5.41 20z\"/>\n",
              "  </svg>\n",
              "      </button>\n",
              "      \n",
              "  <style>\n",
              "    .colab-df-container {\n",
              "      display:flex;\n",
              "      flex-wrap:wrap;\n",
              "      gap: 12px;\n",
              "    }\n",
              "\n",
              "    .colab-df-convert {\n",
              "      background-color: #E8F0FE;\n",
              "      border: none;\n",
              "      border-radius: 50%;\n",
              "      cursor: pointer;\n",
              "      display: none;\n",
              "      fill: #1967D2;\n",
              "      height: 32px;\n",
              "      padding: 0 0 0 0;\n",
              "      width: 32px;\n",
              "    }\n",
              "\n",
              "    .colab-df-convert:hover {\n",
              "      background-color: #E2EBFA;\n",
              "      box-shadow: 0px 1px 2px rgba(60, 64, 67, 0.3), 0px 1px 3px 1px rgba(60, 64, 67, 0.15);\n",
              "      fill: #174EA6;\n",
              "    }\n",
              "\n",
              "    [theme=dark] .colab-df-convert {\n",
              "      background-color: #3B4455;\n",
              "      fill: #D2E3FC;\n",
              "    }\n",
              "\n",
              "    [theme=dark] .colab-df-convert:hover {\n",
              "      background-color: #434B5C;\n",
              "      box-shadow: 0px 1px 3px 1px rgba(0, 0, 0, 0.15);\n",
              "      filter: drop-shadow(0px 1px 2px rgba(0, 0, 0, 0.3));\n",
              "      fill: #FFFFFF;\n",
              "    }\n",
              "  </style>\n",
              "\n",
              "      <script>\n",
              "        const buttonEl =\n",
              "          document.querySelector('#df-acb5966b-f235-41d6-8bcb-281a0806c5cf button.colab-df-convert');\n",
              "        buttonEl.style.display =\n",
              "          google.colab.kernel.accessAllowed ? 'block' : 'none';\n",
              "\n",
              "        async function convertToInteractive(key) {\n",
              "          const element = document.querySelector('#df-acb5966b-f235-41d6-8bcb-281a0806c5cf');\n",
              "          const dataTable =\n",
              "            await google.colab.kernel.invokeFunction('convertToInteractive',\n",
              "                                                     [key], {});\n",
              "          if (!dataTable) return;\n",
              "\n",
              "          const docLinkHtml = 'Like what you see? Visit the ' +\n",
              "            '<a target=\"_blank\" href=https://colab.research.google.com/notebooks/data_table.ipynb>data table notebook</a>'\n",
              "            + ' to learn more about interactive tables.';\n",
              "          element.innerHTML = '';\n",
              "          dataTable['output_type'] = 'display_data';\n",
              "          await google.colab.output.renderOutput(dataTable, element);\n",
              "          const docLink = document.createElement('div');\n",
              "          docLink.innerHTML = docLinkHtml;\n",
              "          element.appendChild(docLink);\n",
              "        }\n",
              "      </script>\n",
              "    </div>\n",
              "  </div>\n",
              "  "
            ]
          },
          "metadata": {},
          "execution_count": 315
        }
      ]
    },
    {
      "cell_type": "markdown",
      "metadata": {
        "id": "u-X15n321-eZ"
      },
      "source": [
        "### Noise Removal \n",
        "(URLs, HTML Tags, Punctuation, Numbers, Extra Whitespace, lowercase)"
      ]
    },
    {
      "cell_type": "code",
      "source": [
        "import re\n",
        "\n",
        "class noise_removal:\n",
        "\n",
        "    def __init__(self):\n",
        "        pass\n",
        "\n",
        "    def clean(self, df, column):\n",
        "        df[column]= df[column].apply(self.rm_urls)\n",
        "        df[column]= df[column].apply(self.rm_html_tags)\n",
        "        df[column] = df[column].apply(self.rm_non_alphanumeric)\n",
        "        df[column] = self.rm_whitespace(df, column)\n",
        "\n",
        "        # lowercase\n",
        "        df[column] = df[column].str.lower()\n",
        "\n",
        "        return df\n",
        "\n",
        "    def rm_urls(self, text):\n",
        "        return re.sub(r'http\\S+', ' ', text)\n",
        "    \n",
        "    def rm_html_tags(self, text):\n",
        "        return re.sub('<[^<]+?>', '', text)\n",
        "\n",
        "    def rm_non_alphanumeric(self, text):\n",
        "        return re.sub('[^a-zA-Z]', ' ', text)\n",
        "\n",
        "    def rm_whitespace(self, df, column):\n",
        "        return df[column].apply(lambda x : \" \".join(x.split()))"
      ],
      "metadata": {
        "id": "fjCus1Pf3CcY"
      },
      "execution_count": 316,
      "outputs": []
    },
    {
      "cell_type": "code",
      "source": [
        "df_train = noise_removal().clean(df_train, 'text')\n",
        "df_test = noise_removal().clean(df_test, 'text')"
      ],
      "metadata": {
        "id": "Iqw9-U4_7KxU"
      },
      "execution_count": 317,
      "outputs": []
    },
    {
      "cell_type": "code",
      "source": [
        "df_train['text'].iloc[0]"
      ],
      "metadata": {
        "colab": {
          "base_uri": "https://localhost:8080/",
          "height": 106
        },
        "id": "mOwgBt35-Wls",
        "outputId": "1faac825-26ac-4691-ce13-1ffb03b67b52"
      },
      "execution_count": 318,
      "outputs": [
        {
          "output_type": "execute_result",
          "data": {
            "text/plain": [
              "'december utc i am interested not in arguing but in the policies which resolve our ongoing content dispute also see wikipedia wikiproject united states presidential elections for what i ll be working on also the moneybomb closer just self reverted on two different requests which echoed what i would have requested i will rephrase which i didn t see an answer to building on our agreement that moneybomb should not be a redlink given the deletion reversion what should be the outline of the article called moneybomb or should it be submitted for afd again in due time if the latter see the previous version of however this version will require a detailed answer because any ambiguity will only necessitate clarifying questions'"
            ],
            "application/vnd.google.colaboratory.intrinsic+json": {
              "type": "string"
            }
          },
          "metadata": {},
          "execution_count": 318
        }
      ]
    },
    {
      "cell_type": "markdown",
      "metadata": {
        "id": "BZB5BLXS1-eo"
      },
      "source": [
        "### Spell Checker"
      ]
    },
    {
      "cell_type": "markdown",
      "metadata": {
        "id": "r-34LaSP1-ep"
      },
      "source": [
        "In Natural Language Processing it’s important that spelling errors should be as less as possible so that whatever we are making should be highly accurate."
      ]
    },
    {
      "cell_type": "code",
      "execution_count": 319,
      "metadata": {
        "id": "Xwhc1qq81-ep"
      },
      "outputs": [],
      "source": [
        "# from textblob import TextBlob\n",
        "\n",
        "# df['text'] = df['text'].apply(lambda x : TextBlob(x).correct())"
      ]
    },
    {
      "cell_type": "markdown",
      "metadata": {
        "id": "ILut8-Hw1-er"
      },
      "source": [
        "### Lemmatization"
      ]
    },
    {
      "cell_type": "markdown",
      "metadata": {
        "id": "BDiSYdzz1-er"
      },
      "source": [
        "Comparing between Lemmatization and stemming -\n",
        "\n",
        "Stemming just removes or stems the last few characters of a word, often leading to incorrect meanings and spelling. Lemmatization considers the context and converts the word to its meaningful base form, which is called Lemma. Sometimes, the same word can have multiple different Lemmas.\n",
        "\n",
        "* If you lemmatize the word 'Caring', it would return 'Care'. If you stem, it would return 'Car' and this is erroneous.\n",
        "\n",
        "* If you lemmatize the word 'Stripes' in verb context, it would return 'Strip'. If you lemmatize it in noun context, it would return 'Stripe'. If you just stem it, it would just return 'Strip'.\n",
        "* You would get same results whether you lemmatize or stem words such as walking, running, swimming... to walk, run, swim etc.\n",
        "\n",
        "![LVS](assets/LVS.png \"Lemmatization vs Stemming\")"
      ]
    },
    {
      "cell_type": "code",
      "execution_count": 320,
      "metadata": {
        "id": "3f5s9O1x1-es"
      },
      "outputs": [],
      "source": [
        "from nltk.stem import WordNetLemmatizer\n",
        "\n",
        "def lemm(df, column):\n",
        "    lemma = WordNetLemmatizer()\n",
        "\n",
        "    df[column] = df[column].apply(lambda x : \" \".join([lemma.lemmatize(word = w, pos='n') for w in x.split(\" \")]))\n",
        "    df[column] = df[column].apply(lambda x : \" \".join([lemma.lemmatize(word = w, pos='v') for w in x.split(\" \")]))\n",
        "\n",
        "    return df"
      ]
    },
    {
      "cell_type": "code",
      "source": [
        "df_train = lemm(df_train, 'text')\n",
        "df_test = lemm(df_test, 'text')"
      ],
      "metadata": {
        "id": "lv4IwnNPAvPP"
      },
      "execution_count": 321,
      "outputs": []
    },
    {
      "cell_type": "code",
      "execution_count": 322,
      "metadata": {
        "colab": {
          "base_uri": "https://localhost:8080/",
          "height": 106
        },
        "id": "0R_Uuh-l1-et",
        "outputId": "9fbb415d-7eb8-458c-83e9-667687b67e8c"
      },
      "outputs": [
        {
          "output_type": "execute_result",
          "data": {
            "text/plain": [
              "'december utc i be interest not in argue but in the policy which resolve our ongoing content dispute also see wikipedia wikiproject unite state presidential election for what i ll be work on also the moneybomb closer just self revert on two different request which echo what i would have request i will rephrase which i didn t see an answer to build on our agreement that moneybomb should not be a redlink give the deletion reversion what should be the outline of the article call moneybomb or should it be submit for afd again in due time if the latter see the previous version of however this version will require a detail answer because any ambiguity will only necessitate clarify question'"
            ],
            "application/vnd.google.colaboratory.intrinsic+json": {
              "type": "string"
            }
          },
          "metadata": {},
          "execution_count": 322
        }
      ],
      "source": [
        "df_train.text.iloc[0]"
      ]
    },
    {
      "cell_type": "markdown",
      "metadata": {
        "id": "RIKUWs3j1-eu"
      },
      "source": [
        "### Remove Stop Words"
      ]
    },
    {
      "cell_type": "code",
      "execution_count": 323,
      "metadata": {
        "id": "F9w5OyEt1-eu"
      },
      "outputs": [],
      "source": [
        "from nltk.corpus import stopwords\n",
        "\n",
        "stop = stopwords.words('english')\n",
        "not_stop_words = {'no', 'not', 'nor'}\n",
        "modified_stop = [ele for ele in stop if ele not in not_stop_words]\n",
        "\n",
        "def remove_stop_words(df, column):\n",
        "    \n",
        "    df[column] = df[column].apply(lambda x : ' '.join([word for word in x.split(' ') if word not in modified_stop]))\n",
        "    return df"
      ]
    },
    {
      "cell_type": "code",
      "execution_count": 324,
      "metadata": {
        "id": "2HtCs62c1-ev"
      },
      "outputs": [],
      "source": [
        "df_train = remove_stop_words(df_train, 'text')\n",
        "df_test = remove_stop_words(df_test, 'text')"
      ]
    },
    {
      "cell_type": "markdown",
      "source": [
        "###Remove words of length <=2"
      ],
      "metadata": {
        "id": "f0luMP3Hp9fR"
      }
    },
    {
      "cell_type": "code",
      "source": [
        "def clean_small(text):\n",
        "    return re.sub(r'\\b\\w{1,2}\\b', '', text)\n",
        "\n",
        "def remove_less_2(df, column):\n",
        "    df[column] = df[column].apply(clean_small)\n",
        "    df[column] = noise_removal().rm_whitespace(df, column)\n",
        "    return df"
      ],
      "metadata": {
        "id": "NjVM1lOupsvH"
      },
      "execution_count": 325,
      "outputs": []
    },
    {
      "cell_type": "code",
      "source": [
        "df_train = remove_less_2(df_train, 'text')\n",
        "df_test = remove_less_2(df_test, 'text')"
      ],
      "metadata": {
        "id": "ZolfnOXYFOE4"
      },
      "execution_count": 326,
      "outputs": []
    },
    {
      "cell_type": "markdown",
      "metadata": {
        "id": "SxeOqoUp1-ew"
      },
      "source": [
        "# Todo\n",
        "**Remove words like 'zzzzzzzzzzzzzzzzzzzzzzz', 'testtting', 'grrrrrrreeeettttt' etc. Preserves words like 'looks', 'goods', 'soon'.We will remove all such words which has three consecutive repeating characters.**\n",
        "\n",
        "**stopwords without (no not aur nor)**"
      ]
    },
    {
      "cell_type": "markdown",
      "metadata": {
        "id": "cOztVvEG1-ex"
      },
      "source": [
        "# EDA (Exploratory Data Analysis)"
      ]
    },
    {
      "cell_type": "markdown",
      "metadata": {
        "id": "GUFwfgSj1-ex"
      },
      "source": [
        "### Count of comments per category\n",
        "\n",
        "To get a better sense of our MultiLabel Classification we would start by plotting the number of texts in each category."
      ]
    },
    {
      "cell_type": "code",
      "execution_count": 327,
      "metadata": {
        "colab": {
          "base_uri": "https://localhost:8080/",
          "height": 609
        },
        "id": "e6TYOxAy1-ex",
        "outputId": "47e32290-7046-4d4c-c723-3fd4e733728f"
      },
      "outputs": [
        {
          "output_type": "display_data",
          "data": {
            "text/plain": [
              "<Figure size 1296x648 with 1 Axes>"
            ],
            "image/png": "[encoded data removed]"
          },
          "metadata": {}
        }
      ],
      "source": [
        "categories = list(df.columns.values)\n",
        "categories.remove('id')\n",
        "categories.remove('text')\n",
        "\n",
        "sns.set(font_scale=2)\n",
        "\n",
        "ax = sns.barplot(x=categories, y=df_train.iloc[:, 2:].sum().values)\n",
        "\n",
        "plt.title(\"Texts in each category\", fontsize=24)\n",
        "plt.ylabel('Number of Texts', fontsize=18)\n",
        "plt.xlabel('Text Type ', fontsize=18)\n",
        "\n",
        "rects = ax.patches\n",
        "labels = df_train.iloc[:, 2:].sum().values\n",
        "\n",
        "for rect, label in zip(rects, labels):\n",
        "    height = rect.get_height()\n",
        "    ax.text(rect.get_x() + rect.get_width()/2, height + 5, label, ha='center', va='bottom', fontsize=18)\n",
        "\n",
        "plt.show()"
      ]
    },
    {
      "cell_type": "markdown",
      "metadata": {
        "id": "O6RVThfY1-ey"
      },
      "source": [
        "**Observations**: Harsh is the most common type of text and is nearly equal to the sum of all other types of texts whereas threatening, extremely_harsh, targeted_hate are the rare ones among all of them. Some more interdependent labels will be discussed in later part of the module."
      ]
    },
    {
      "cell_type": "markdown",
      "metadata": {
        "id": "ITBoTKFM1-ez"
      },
      "source": [
        "### Count of comments with multiple labels\n",
        "\n",
        "Now let us count the number of comments having multiple labels."
      ]
    },
    {
      "cell_type": "code",
      "source": [
        "df_toxic = df_train[(df_train[['harsh', 'extremely_harsh', 'vulgar', 'threatening', 'disrespect', 'targeted_hate']] > 0).any(axis=1)]\n",
        "len(df_toxic)"
      ],
      "metadata": {
        "id": "4Pd7qJbepVN0",
        "outputId": "03426f22-8ff7-4b1e-f474-b693587abae4",
        "colab": {
          "base_uri": "https://localhost:8080/"
        }
      },
      "execution_count": 328,
      "outputs": [
        {
          "output_type": "execute_result",
          "data": {
            "text/plain": [
              "9076"
            ]
          },
          "metadata": {},
          "execution_count": 328
        }
      ]
    },
    {
      "cell_type": "markdown",
      "source": [
        "There are only 9076 \"Toxic comments\" out of 89,359 total comments."
      ],
      "metadata": {
        "id": "h8IFoamrpkOp"
      }
    },
    {
      "cell_type": "code",
      "execution_count": 329,
      "metadata": {
        "colab": {
          "base_uri": "https://localhost:8080/",
          "height": 608
        },
        "id": "SvTYLUdU1-ez",
        "outputId": "52ecabef-ea10-47f9-99f3-69be89041659"
      },
      "outputs": [
        {
          "output_type": "display_data",
          "data": {
            "text/plain": [
              "<Figure size 1296x648 with 1 Axes>"
            ],
            "image/png": "[encoded data removed]"
          },
          "metadata": {}
        }
      ],
      "source": [
        "rowSums = df_train.iloc[:, 2:].sum(axis=1)\n",
        "\n",
        "multiLabel_counts = rowSums.value_counts()\n",
        "multiLabel_counts = multiLabel_counts.iloc[1:]\n",
        "\n",
        "sns.set(font_scale=2)\n",
        "\n",
        "ax = sns.barplot(x=multiLabel_counts.index, y=multiLabel_counts.values)\n",
        "\n",
        "plt.title(\"Texts having multiple labels \")\n",
        "plt.ylabel('Number of Texts', fontsize=18)\n",
        "plt.xlabel('Number of labels', fontsize=18)\n",
        "\n",
        "# adding the text labels\n",
        "rects = ax.patches\n",
        "labels = multiLabel_counts.values\n",
        "\n",
        "for rect, label in zip(rects, labels):\n",
        "    height = rect.get_height()\n",
        "    ax.text(rect.get_x() + rect.get_width()/2, height + 5, label, ha='center', va='bottom')\n",
        "            \n",
        "plt.show()"
      ]
    },
    {
      "cell_type": "markdown",
      "metadata": {
        "id": "v_iLfpEL1-e0"
      },
      "source": [
        "**Observations**: All 6 labels at the same time is extremely rare and only one label takes up the majority."
      ]
    },
    {
      "cell_type": "markdown",
      "source": [
        "### Top toxic words\n",
        "\n",
        "Now, let us find the top 100 words by frequency (for toxic comments only)"
      ],
      "metadata": {
        "id": "yb3WGHiMtU10"
      }
    },
    {
      "cell_type": "code",
      "source": [
        "toxic_words = pd.Series(' '.join(df_toxic.text).lower().split()).value_counts()"
      ],
      "metadata": {
        "id": "BOX4xuHSqacd"
      },
      "execution_count": 330,
      "outputs": []
    },
    {
      "cell_type": "code",
      "source": [
        "toxic_words"
      ],
      "metadata": {
        "id": "DdmSLGBjweK6",
        "outputId": "47553c43-1cd4-494e-a2cc-7dd354593d3f",
        "colab": {
          "base_uri": "https://localhost:8080/"
        }
      },
      "execution_count": 331,
      "outputs": [
        {
          "output_type": "execute_result",
          "data": {
            "text/plain": [
              "fuck            6377\n",
              "not             3004\n",
              "nigger          2668\n",
              "suck            2416\n",
              "like            2264\n",
              "                ... \n",
              "trollish           1\n",
              "clumsy             1\n",
              "suvorov            1\n",
              "collaberated       1\n",
              "cutcho             1\n",
              "Length: 19398, dtype: int64"
            ]
          },
          "metadata": {},
          "execution_count": 331
        }
      ]
    },
    {
      "cell_type": "code",
      "source": [
        "sns.barplot(y=toxic_words.iloc[:20].index, x=toxic_words.iloc[:20].values, palette='Blues_r', edgecolor=\"k\", linewidth=1)"
      ],
      "metadata": {
        "id": "GnaJKz6GrVIu",
        "outputId": "575ca250-c6b7-46b9-d896-64df87842d03",
        "colab": {
          "base_uri": "https://localhost:8080/",
          "height": 568
        }
      },
      "execution_count": 332,
      "outputs": [
        {
          "output_type": "execute_result",
          "data": {
            "text/plain": [
              "<matplotlib.axes._subplots.AxesSubplot at 0x7f54cbc11310>"
            ]
          },
          "metadata": {},
          "execution_count": 332
        },
        {
          "output_type": "display_data",
          "data": {
            "text/plain": [
              "<Figure size 1296x648 with 1 Axes>"
            ],
            "image/png": "[encoded data removed]"
          },
          "metadata": {}
        }
      ]
    },
    {
      "cell_type": "code",
      "source": [
        "# corpus=[]\n",
        "# new = df_toxic['text'].str.split()\n",
        "# new = new.values.tolist()\n",
        "# corpus=[word for i in new for word in i]"
      ],
      "metadata": {
        "id": "PwDHDZjlrOKJ"
      },
      "execution_count": 333,
      "outputs": []
    },
    {
      "cell_type": "code",
      "source": [
        "# from collections import Counter\n",
        "\n",
        "# counter=Counter(corpus)\n",
        "# most=counter.most_common()\n",
        "\n",
        "# x, y= [], []\n",
        "# for word,count in most[:20]:\n",
        "#     if (word not in modified_stop):\n",
        "#         x.append(word)\n",
        "#         y.append(count)\n",
        "# sns.barplot(x=y,y=x)"
      ],
      "metadata": {
        "id": "Npv-ed7Kq9t2"
      },
      "execution_count": 334,
      "outputs": []
    },
    {
      "cell_type": "markdown",
      "source": [
        "**Observation**: We can see the top 20 words in the text and can say by intuition that the bad words that constitute to the target labels are not that common"
      ],
      "metadata": {
        "id": "ncHg4HvStCfP"
      }
    },
    {
      "cell_type": "markdown",
      "source": [
        "Let us make a WordCloud to better understand the occurrences of the words which constitute in the majority."
      ],
      "metadata": {
        "id": "HIsUysZJuvWs"
      }
    },
    {
      "cell_type": "code",
      "source": [
        "from wordcloud import WordCloud\n",
        "\n",
        "def show_wordcloud(data):\n",
        "    wordcloud = WordCloud(\n",
        "        background_color='black',\n",
        "        stopwords=modified_stop,\n",
        "        max_words=100,\n",
        "        max_font_size=30,\n",
        "        scale=3,\n",
        "        random_state=1)\n",
        "   \n",
        "    wordcloud=wordcloud.generate(str(data))\n",
        "\n",
        "    fig = plt.figure(1, figsize=(12, 12))\n",
        "    plt.axis('off')\n",
        "\n",
        "    plt.imshow(wordcloud)\n",
        "    plt.show()\n",
        "\n",
        "show_wordcloud(toxic_words.index.tolist())"
      ],
      "metadata": {
        "id": "s9cAvWN-tpYz",
        "outputId": "230be190-8e24-43b9-8d14-0b87aedd5656",
        "colab": {
          "base_uri": "https://localhost:8080/",
          "height": 366
        }
      },
      "execution_count": 354,
      "outputs": [
        {
          "output_type": "display_data",
          "data": {
            "text/plain": [
              "<Figure size 864x864 with 1 Axes>"
            ],
            "image/png": "[encoded data removed]"
          },
          "metadata": {}
        }
      ]
    },
    {
      "cell_type": "markdown",
      "metadata": {
        "id": "7gErwgPz1-e1"
      },
      "source": [
        "Next, we will plot the length of comments. We can observe that most comments are less than 500 characters long."
      ]
    },
    {
      "cell_type": "code",
      "execution_count": 336,
      "metadata": {
        "colab": {
          "base_uri": "https://localhost:8080/",
          "height": 632
        },
        "id": "scUdG-kV1-e1",
        "outputId": "195a037c-9527-4c7d-c793-d7136f612bbf"
      },
      "outputs": [
        {
          "output_type": "execute_result",
          "data": {
            "text/plain": [
              "Text(0, 0.5, 'Count of Comments')"
            ]
          },
          "metadata": {},
          "execution_count": 336
        },
        {
          "output_type": "display_data",
          "data": {
            "text/plain": [
              "<Figure size 1296x648 with 1 Axes>"
            ],
            "image/png": "[encoded data removed]"
          },
          "metadata": {}
        }
      ],
      "source": [
        "text_len = df_train.text.str.len()\n",
        "\n",
        "plt.title(\"Average Length of a Comment = \" + str(int(text_len.mean())))\n",
        "plt.xticks(range(0, 5000+1, 500))\n",
        "\n",
        "ax = sns.histplot(text_len, binwidth=500)\n",
        "ax.set_xlabel('Length of Comments')\n",
        "ax.set_ylabel('Count of Comments')"
      ]
    },
    {
      "cell_type": "markdown",
      "metadata": {
        "id": "CYFQ98yq1-e2"
      },
      "source": [
        "# Text -> Features"
      ]
    },
    {
      "cell_type": "markdown",
      "metadata": {
        "id": "IuCjd1QB1-e2"
      },
      "source": [
        "### BOW (Bag of Words)"
      ]
    },
    {
      "cell_type": "markdown",
      "metadata": {
        "id": "8NwsxWfk1-e3"
      },
      "source": [
        "Each text is represented as a vector consisting of the frequency / occurence(0,1) / weighted values of vocabulary (list of unique words).\n",
        "\n",
        "![BOW](assets/BOW.png \"Bag Of Words\")\n",
        "\n",
        "Disadvantages ->\n",
        "1.\tVocabulary can become too large\n",
        "2.\tEach text vector will contain many 0's which will result in a sparse matrix (Why is that a problem?)\n",
        "3.\tOrdering of the words (grammar, meaning) is lost\n",
        "4.\tWords which occur frequently across all text vectors may introduce a bias."
      ]
    },
    {
      "cell_type": "markdown",
      "metadata": {
        "id": "-x9ymBq01-e3"
      },
      "source": [
        "### TF-IDF (Term Frequency and Inverse document Frequency)"
      ]
    },
    {
      "cell_type": "markdown",
      "metadata": {
        "id": "I0OT6mUJ1-e4"
      },
      "source": [
        "TF-IDF kind of normalizes the text vectors. Frequent words in a text-vector are \"rewarded\", but they also get \"punished\" if they are frequent in other text-vectors too. Thus, higher weight is assigned to unique or rare terms considering all text-vectors.\n",
        "\n",
        "<!-- TF(t,d) = (count of t in document d) / (Total words in document d)\n",
        "\n",
        "IDF(t) = log(Total documents / Number of documents containing t)\n",
        "\n",
        "![TF-IDF](assets/IDF.png \"TF_IDF\") -->\n",
        "\n",
        "Disadvantages ->\n",
        "\n",
        "1. TF-IDF is basically BOW with weights. It cannot capture the semantics / meaning of text."
      ]
    },
    {
      "cell_type": "code",
      "source": [
        "from sklearn.feature_extraction.text import TfidfVectorizer\n",
        "\n",
        "# Explore other parameters of TfidVectorizer\n",
        "vectorizer = TfidfVectorizer(binary=True)\n",
        "\n",
        "# Learn vocabulary and idf from training docs. Returns document-term matrix\n",
        "TF_IDF_train = vectorizer.fit_transform(df_train['text'])\n",
        "\n",
        "# Trandform test docs to document-term matrix\n",
        "TF_IDF_test = vectorizer.transform(df_test['text'])"
      ],
      "metadata": {
        "id": "2WCQxdKiIb7Z"
      },
      "execution_count": 337,
      "outputs": []
    },
    {
      "cell_type": "code",
      "execution_count": 338,
      "metadata": {
        "colab": {
          "base_uri": "https://localhost:8080/"
        },
        "id": "3mmSz8Js1-e6",
        "outputId": "b7c7e224-1fc0-4dff-d600-e7e3d4c80609"
      },
      "outputs": [
        {
          "output_type": "stream",
          "name": "stderr",
          "text": [
            "/usr/local/lib/python3.7/dist-packages/sklearn/utils/deprecation.py:87: FutureWarning: Function get_feature_names is deprecated; get_feature_names is deprecated in 1.0 and will be removed in 1.2. Please use get_feature_names_out instead.\n",
            "  warnings.warn(msg, category=FutureWarning)\n"
          ]
        },
        {
          "output_type": "execute_result",
          "data": {
            "text/plain": [
              "['aaa',\n",
              " 'aaaa',\n",
              " 'aaaaaaaa',\n",
              " 'aaaaaaaaaaaaaaaaaaaaaaaaaaaaaaaaaaaaaaaaaaaaaaaaaaaaaaaaaaaaaaaaaaaaaany',\n",
              " 'aaaaaaaaaah',\n",
              " 'aaaaaaahhhhhhhhhhhhhhhhhhhhhhhh',\n",
              " 'aaaah',\n",
              " 'aaaannnnyyyywwwwhhhheeeerrrreeee',\n",
              " 'aaaawwww',\n",
              " 'aaaboyz',\n",
              " 'aaages',\n",
              " 'aaaghh',\n",
              " 'aaah',\n",
              " 'aaahhh',\n",
              " 'aaai',\n",
              " 'aaajade',\n",
              " 'aaand',\n",
              " 'aaaww',\n",
              " 'aaba',\n",
              " 'aaberg',\n",
              " 'aabove',\n",
              " 'aac',\n",
              " 'aachen',\n",
              " 'aachi',\n",
              " 'aacs',\n",
              " 'aad',\n",
              " 'aademia',\n",
              " 'aadmi',\n",
              " 'aaffect',\n",
              " 'aafia',\n",
              " 'aaflight',\n",
              " 'aage',\n",
              " 'aagin',\n",
              " 'aah',\n",
              " 'aai',\n",
              " 'aaiha',\n",
              " 'aajonus',\n",
              " 'aakash',\n",
              " 'aake',\n",
              " 'aalborg',\n",
              " 'aalertbot',\n",
              " 'aalexa',\n",
              " 'aaliya',\n",
              " 'aaliyah',\n",
              " 'aalst',\n",
              " 'aam',\n",
              " 'aamir',\n",
              " 'aamirjamil',\n",
              " 'aamu',\n",
              " 'aanas',\n",
              " 'aand',\n",
              " 'aang',\n",
              " 'aao',\n",
              " 'aaot',\n",
              " 'aap',\n",
              " 'aapl',\n",
              " 'aapropriate',\n",
              " 'aar',\n",
              " 'aarabs',\n",
              " 'aarau',\n",
              " 'aardvark',\n",
              " 'aare',\n",
              " 'aarem',\n",
              " 'aaroamal',\n",
              " 'aarohi',\n",
              " 'aaron',\n",
              " 'aaroncrick',\n",
              " 'aaronic',\n",
              " 'aaronshavit',\n",
              " 'aaronsw',\n",
              " 'aarp',\n",
              " 'aarrow',\n",
              " 'aarticles',\n",
              " 'aaruveetil',\n",
              " 'aat',\n",
              " 'aatc',\n",
              " 'aau',\n",
              " 'aave',\n",
              " 'aaviksoo',\n",
              " 'aavishkaar',\n",
              " 'aaw',\n",
              " 'aayege',\n",
              " 'aba',\n",
              " 'abacination',\n",
              " 'aback',\n",
              " 'abacus',\n",
              " 'abad',\n",
              " 'abaddon',\n",
              " 'abagnale',\n",
              " 'aban',\n",
              " 'abandon',\n",
              " 'abandonment',\n",
              " 'abandonned',\n",
              " 'abandonou',\n",
              " 'abang',\n",
              " 'abaranger',\n",
              " 'abarat',\n",
              " 'abase',\n",
              " 'abassids',\n",
              " 'abatayo',\n",
              " 'abb',\n",
              " 'abba',\n",
              " 'abbas',\n",
              " 'abbasgulu',\n",
              " 'abbasid',\n",
              " 'abbasids',\n",
              " 'abbass',\n",
              " 'abbassed',\n",
              " 'abbassi',\n",
              " 'abbastanza',\n",
              " 'abbau',\n",
              " 'abbe',\n",
              " 'abberations',\n",
              " 'abbetting',\n",
              " 'abbey',\n",
              " 'abbie',\n",
              " 'abbot',\n",
              " 'abbott',\n",
              " 'abbottabad',\n",
              " 'abbr',\n",
              " 'abbrasive',\n",
              " 'abbreveated',\n",
              " 'abbreviate',\n",
              " 'abbreviatedis',\n",
              " 'abbreviation',\n",
              " 'abbrevs',\n",
              " 'abbriviations',\n",
              " 'abby',\n",
              " 'abbyses',\n",
              " 'abbythecat',\n",
              " 'abbywinters',\n",
              " 'abc',\n",
              " 'abcde',\n",
              " 'abce',\n",
              " 'abcedere',\n",
              " 'abcmonster',\n",
              " 'abcnews',\n",
              " 'abd',\n",
              " 'abdali',\n",
              " 'abdallah',\n",
              " 'abdallar',\n",
              " 'abdaly',\n",
              " 'abdel',\n",
              " 'abdelbaset',\n",
              " 'abdi',\n",
              " 'abdicate',\n",
              " 'abdication',\n",
              " 'abdielcolberg',\n",
              " 'abdillah',\n",
              " 'abdin',\n",
              " 'abdomen',\n",
              " 'abdominal',\n",
              " 'abdoozy',\n",
              " 'abduct',\n",
              " 'abduction',\n",
              " 'abductive',\n",
              " 'abdul',\n",
              " 'abdulaziz',\n",
              " 'abdulla',\n",
              " 'abdullah',\n",
              " 'abdullahi',\n",
              " 'abdulqawi',\n",
              " 'abdulrahman',\n",
              " 'abdulrazak',\n",
              " 'abdur',\n",
              " 'abdus',\n",
              " 'abdusamatov',\n",
              " 'abe',\n",
              " 'abecedare',\n",
              " 'abed',\n",
              " 'abeda',\n",
              " 'abedin',\n",
              " 'abeer',\n",
              " 'abeg',\n",
              " 'abel',\n",
              " 'abele',\n",
              " 'abelian',\n",
              " 'abella',\n",
              " 'abenaki',\n",
              " 'aber',\n",
              " 'abercromby',\n",
              " 'aberdeen',\n",
              " 'aberforth',\n",
              " 'aberg',\n",
              " 'abernathy',\n",
              " 'aberoo',\n",
              " 'aberrant',\n",
              " 'aberration',\n",
              " 'abert',\n",
              " 'abertura',\n",
              " 'abet',\n",
              " 'abeter',\n",
              " 'abettor',\n",
              " 'abetz',\n",
              " 'abey',\n",
              " 'abeyance',\n",
              " 'abf',\n",
              " 'abhaga',\n",
              " 'abhaile',\n",
              " 'abhay',\n",
              " 'abhayagiri',\n",
              " 'abheda',\n",
              " 'abhi',\n",
              " 'abhijeet',\n",
              " 'abhijna',\n",
              " 'abhira',\n",
              " 'abhiramdasji',\n",
              " 'abhisamaya',\n",
              " 'abhishek',\n",
              " 'abhishekitm',\n",
              " 'abhishikt',\n",
              " 'abhisit',\n",
              " 'abhor',\n",
              " 'abhorrence',\n",
              " 'abhorrent',\n",
              " 'abhorridly',\n",
              " 'abhramidic',\n",
              " 'abi',\n",
              " 'abian',\n",
              " 'abide',\n",
              " 'abie',\n",
              " 'abientot',\n",
              " 'abigail',\n",
              " 'abih',\n",
              " 'ability',\n",
              " 'abilty',\n",
              " 'abington',\n",
              " 'abio',\n",
              " 'abiogenesis',\n",
              " 'abiogenic',\n",
              " 'abiogensis',\n",
              " 'abisharan',\n",
              " 'abit',\n",
              " 'abitrary',\n",
              " 'abitrators',\n",
              " 'abiyebudur',\n",
              " 'abject',\n",
              " 'abjectio',\n",
              " 'abk',\n",
              " 'abkaz',\n",
              " 'abkazia',\n",
              " 'abkazians',\n",
              " 'abkco',\n",
              " 'abkhaz',\n",
              " 'abkhazia',\n",
              " 'abkhazian',\n",
              " 'abl',\n",
              " 'ablation',\n",
              " 'ablaut',\n",
              " 'ablaze',\n",
              " 'able',\n",
              " 'abled',\n",
              " 'ableist',\n",
              " 'abler',\n",
              " 'ableson',\n",
              " 'ableton',\n",
              " 'ablindinglight',\n",
              " 'ablum',\n",
              " 'ablution',\n",
              " 'ably',\n",
              " 'abmin',\n",
              " 'abn',\n",
              " 'abnegation',\n",
              " 'abney',\n",
              " 'abnormal',\n",
              " 'abnormality',\n",
              " 'abnormally',\n",
              " 'abnormals',\n",
              " 'abo',\n",
              " 'aboard',\n",
              " 'aboiut',\n",
              " 'abolish',\n",
              " 'abolishion',\n",
              " 'abolition',\n",
              " 'abolitionist',\n",
              " 'abolution',\n",
              " 'abominable',\n",
              " 'abominably',\n",
              " 'abomination',\n",
              " 'abondantly',\n",
              " 'aboot',\n",
              " 'aboout',\n",
              " 'aboput',\n",
              " 'aborigin',\n",
              " 'aboriginal',\n",
              " 'aborigine',\n",
              " 'aborigins',\n",
              " 'abort',\n",
              " 'abortion',\n",
              " 'abortionist',\n",
              " 'abortionref',\n",
              " 'abortive',\n",
              " 'abosolut',\n",
              " 'abosolute',\n",
              " 'abosultely',\n",
              " 'abot',\n",
              " 'abotu',\n",
              " 'abou',\n",
              " 'abound',\n",
              " 'abour',\n",
              " 'abouta',\n",
              " 'abouth',\n",
              " 'abouthosur',\n",
              " 'aboutmovies',\n",
              " 'abouto',\n",
              " 'aboutthe',\n",
              " 'aboutus',\n",
              " 'aboveboard',\n",
              " 'abovementioned',\n",
              " 'abput',\n",
              " 'abpw',\n",
              " 'abpz',\n",
              " 'abra',\n",
              " 'abraha',\n",
              " 'abraham',\n",
              " 'abrahamcoapman',\n",
              " 'abrahamic',\n",
              " 'abrahamsson',\n",
              " 'abrahmic',\n",
              " 'abrahms',\n",
              " 'abram',\n",
              " 'abramce',\n",
              " 'abramites',\n",
              " 'abramoff',\n",
              " 'abramoffrefactor',\n",
              " 'abrams',\n",
              " 'abramsky',\n",
              " 'abramson',\n",
              " 'abrar',\n",
              " 'abras',\n",
              " 'abrasive',\n",
              " 'abrasiveness',\n",
              " 'abratenaxis',\n",
              " 'abreast',\n",
              " 'abrera',\n",
              " 'abreviated',\n",
              " 'abreviation',\n",
              " 'abridge',\n",
              " 'abridgement',\n",
              " 'abriendo',\n",
              " 'abrievenbus',\n",
              " 'abritish',\n",
              " 'abroad',\n",
              " 'abrogate',\n",
              " 'abrogation',\n",
              " 'abrolhos',\n",
              " 'abrubt',\n",
              " 'abrupt',\n",
              " 'abruptive',\n",
              " 'abruptly',\n",
              " 'abruptness',\n",
              " 'absalom',\n",
              " 'abscissa',\n",
              " 'absconder',\n",
              " 'absence',\n",
              " 'absense',\n",
              " 'absent',\n",
              " 'absentbe',\n",
              " 'absentee',\n",
              " 'absentia',\n",
              " 'absently',\n",
              " 'absgroup',\n",
              " 'absicllay',\n",
              " 'absinthe',\n",
              " 'absitnence',\n",
              " 'absoft',\n",
              " 'absofuckinglutely',\n",
              " 'absolom',\n",
              " 'absoloute',\n",
              " 'absoloutely',\n",
              " 'absoltuely',\n",
              " 'absolut',\n",
              " 'absolute',\n",
              " 'absoluteastronomy',\n",
              " 'absolutelly',\n",
              " 'absolutely',\n",
              " 'absolutemadonna',\n",
              " 'absoluterock',\n",
              " 'absolution',\n",
              " 'absolutism',\n",
              " 'absolutist',\n",
              " 'absolutley',\n",
              " 'absolutly',\n",
              " 'absolve',\n",
              " 'absorb',\n",
              " 'absorbent',\n",
              " 'absorber',\n",
              " 'absorption',\n",
              " 'absortion',\n",
              " 'absoultlly',\n",
              " 'absoutely',\n",
              " 'abstact',\n",
              " 'abstain',\n",
              " 'abstammen',\n",
              " 'abstance',\n",
              " 'abstention',\n",
              " 'abstentionism',\n",
              " 'abstentionist',\n",
              " 'abstinence',\n",
              " 'abstract',\n",
              " 'abstracta',\n",
              " 'abstraction',\n",
              " 'abstractionism',\n",
              " 'abstruse',\n",
              " 'absue',\n",
              " 'absurd',\n",
              " 'absurdist',\n",
              " 'absurdity',\n",
              " 'absurdly',\n",
              " 'absurdum',\n",
              " 'abt',\n",
              " 'abtalion',\n",
              " 'abtalk',\n",
              " 'abtibiotics',\n",
              " 'abtract',\n",
              " 'abtracts',\n",
              " 'abu',\n",
              " 'abuelo',\n",
              " 'abul',\n",
              " 'abulhawa',\n",
              " 'abulkamal',\n",
              " 'abunch',\n",
              " 'abundance',\n",
              " 'abundant',\n",
              " 'abundantly',\n",
              " 'abundently',\n",
              " 'abureem',\n",
              " 'abus',\n",
              " 'abuse',\n",
              " 'abusean',\n",
              " 'abusefilter',\n",
              " 'abuseive',\n",
              " 'abusephilter',\n",
              " 'abuser',\n",
              " 'abusive',\n",
              " 'abusively',\n",
              " 'abusiveness',\n",
              " 'abusivesockpuppetry',\n",
              " 'abusse',\n",
              " 'abusu',\n",
              " 'abut',\n",
              " 'abuzz',\n",
              " 'abvious',\n",
              " 'abwanderung',\n",
              " 'abwertend',\n",
              " 'abx',\n",
              " 'aby',\n",
              " 'abyslam',\n",
              " 'abysmal',\n",
              " 'abyssal',\n",
              " 'abyssinia',\n",
              " 'abyssus',\n",
              " 'aca',\n",
              " 'acabashi',\n",
              " 'acacia',\n",
              " 'acad',\n",
              " 'acadamey',\n",
              " 'acadamy',\n",
              " 'academe',\n",
              " 'academia',\n",
              " 'academic',\n",
              " 'academical',\n",
              " 'academically',\n",
              " 'academician',\n",
              " 'academie',\n",
              " 'academin',\n",
              " 'academis',\n",
              " 'academitions',\n",
              " 'academny',\n",
              " 'academy',\n",
              " 'acadia',\n",
              " 'acadiahere',\n",
              " 'acadian',\n",
              " 'acadmemey',\n",
              " 'acadmic',\n",
              " 'acalamari',\n",
              " 'acan',\n",
              " 'acanoobic',\n",
              " 'acapulco',\n",
              " 'acarmen',\n",
              " 'acars',\n",
              " 'acatitl',\n",
              " 'acaule',\n",
              " 'acausal',\n",
              " 'acb',\n",
              " 'acbest',\n",
              " 'acbestdog',\n",
              " 'acbestmy',\n",
              " 'acc',\n",
              " 'accademic',\n",
              " 'acccepted',\n",
              " 'acccidental',\n",
              " 'acccoding',\n",
              " 'acccount',\n",
              " 'acccurate',\n",
              " 'acccusations',\n",
              " 'accede',\n",
              " 'acceept',\n",
              " 'acceepted',\n",
              " 'accelerate',\n",
              " 'acceleration',\n",
              " 'accelerator',\n",
              " 'accelration',\n",
              " 'accent',\n",
              " 'accentual',\n",
              " 'accentuate',\n",
              " 'accepable',\n",
              " 'accepet',\n",
              " 'accepeted',\n",
              " 'accept',\n",
              " 'acceptability',\n",
              " 'acceptabl',\n",
              " 'acceptable',\n",
              " 'acceptably',\n",
              " 'acceptance',\n",
              " 'acceptence',\n",
              " 'acceptibility',\n",
              " 'acceptibilty',\n",
              " 'acceptible',\n",
              " 'acceptor',\n",
              " 'acceptyt',\n",
              " 'acces',\n",
              " 'accesibility',\n",
              " 'accesible',\n",
              " 'accesory',\n",
              " 'access',\n",
              " 'accessable',\n",
              " 'accessdate',\n",
              " 'accessdates',\n",
              " 'accessibility',\n",
              " 'accessible',\n",
              " 'accessibly',\n",
              " 'accession',\n",
              " 'accessor',\n",
              " 'accessory',\n",
              " 'accesstoinsight',\n",
              " 'accetable',\n",
              " 'accidantally',\n",
              " 'accidence',\n",
              " 'accidency',\n",
              " 'accident',\n",
              " 'accidental',\n",
              " 'accidentally',\n",
              " 'accidentaly',\n",
              " 'accidente',\n",
              " 'accidential',\n",
              " 'accidentily',\n",
              " 'accidently',\n",
              " 'accidnet',\n",
              " 'acciona',\n",
              " 'accitentally',\n",
              " 'acclaim',\n",
              " 'acclamation',\n",
              " 'acclimate',\n",
              " 'acclimation',\n",
              " 'acclimatize',\n",
              " 'accoding',\n",
              " 'accoint',\n",
              " 'accolade',\n",
              " 'accolites',\n",
              " 'accomadating',\n",
              " 'accomidate',\n",
              " 'accomix',\n",
              " 'accommedation',\n",
              " 'accommodate',\n",
              " 'accommodation',\n",
              " 'accomodate',\n",
              " 'accomodated',\n",
              " 'accomodation',\n",
              " 'accompagn',\n",
              " 'accompany',\n",
              " 'accompished',\n",
              " 'accompli',\n",
              " 'accomplice',\n",
              " 'accomplised',\n",
              " 'accomplish',\n",
              " 'accomplishment',\n",
              " 'accont',\n",
              " 'accontinlity',\n",
              " 'accoount',\n",
              " 'accop',\n",
              " 'accor',\n",
              " 'accord',\n",
              " 'accordanc',\n",
              " 'accordance',\n",
              " 'accordign',\n",
              " 'accordingly',\n",
              " 'accordion',\n",
              " 'accorindg',\n",
              " 'accorrding',\n",
              " 'accorsing',\n",
              " 'accosiated',\n",
              " 'accost',\n",
              " 'accouintable',\n",
              " 'accoun',\n",
              " 'accound',\n",
              " 'account',\n",
              " 'accountability',\n",
              " 'accountable',\n",
              " 'accountancy',\n",
              " 'accountant',\n",
              " 'accountbility',\n",
              " 'accountin',\n",
              " 'accountless',\n",
              " 'accountpage',\n",
              " 'accounttttt',\n",
              " 'accourding',\n",
              " 'accout',\n",
              " 'accoutn',\n",
              " 'accoutns',\n",
              " 'accpet',\n",
              " 'accpetable',\n",
              " 'accpeted',\n",
              " 'accpunt',\n",
              " 'accquire',\n",
              " 'accrding',\n",
              " 'accredit',\n",
              " 'accreditation',\n",
              " 'accreditor',\n",
              " 'accreqbot',\n",
              " 'accrete',\n",
              " 'accretion',\n",
              " 'accroding',\n",
              " 'accroissement',\n",
              " 'accross',\n",
              " 'accrue',\n",
              " 'accsuation',\n",
              " 'acct',\n",
              " 'acctions',\n",
              " 'acctually',\n",
              " 'acctully',\n",
              " 'accu',\n",
              " 'accuaracy',\n",
              " 'accuasion',\n",
              " 'accuate',\n",
              " 'accuing',\n",
              " 'accuire',\n",
              " 'acculturation',\n",
              " 'accumalation',\n",
              " 'accumbens',\n",
              " 'accumlate',\n",
              " 'accumulate',\n",
              " 'accumulation',\n",
              " 'accumulative',\n",
              " 'accunts',\n",
              " 'accura',\n",
              " 'accuracy',\n",
              " 'accuracya',\n",
              " 'accurat',\n",
              " 'accurate',\n",
              " 'accurately',\n",
              " 'accuratley',\n",
              " 'accuratly',\n",
              " 'accured',\n",
              " 'accurent',\n",
              " 'accuretly',\n",
              " 'accuries',\n",
              " 'accuring',\n",
              " 'accurized',\n",
              " 'accurrate',\n",
              " 'accurse',\n",
              " 'accusartuion',\n",
              " 'accusation',\n",
              " 'accusational',\n",
              " 'accusationsnewl',\n",
              " 'accusative',\n",
              " 'accusatories',\n",
              " 'accusatory',\n",
              " 'accusatry',\n",
              " 'accuse',\n",
              " 'accuser',\n",
              " 'accusied',\n",
              " 'accusions',\n",
              " 'accusition',\n",
              " 'accusitions',\n",
              " 'accussations',\n",
              " 'accussed',\n",
              " 'accussing',\n",
              " 'accustations',\n",
              " 'accustion',\n",
              " 'accustions',\n",
              " 'accustom',\n",
              " 'accutely',\n",
              " 'accutrate',\n",
              " 'acd',\n",
              " 'ace',\n",
              " 'acedemic',\n",
              " 'acedemically',\n",
              " 'acedemics',\n",
              " 'acehall',\n",
              " 'acephalous',\n",
              " 'aceptable',\n",
              " 'acer',\n",
              " 'acerbic',\n",
              " 'acertain',\n",
              " 'acetal',\n",
              " 'acetaldehyde',\n",
              " 'acetate',\n",
              " 'acetominophen',\n",
              " 'acevedo',\n",
              " 'acevska',\n",
              " 'aceyalone',\n",
              " 'acf',\n",
              " 'acfas',\n",
              " 'ach',\n",
              " 'achaemenid',\n",
              " 'achakzai',\n",
              " 'acharts',\n",
              " 'acharya',\n",
              " 'acharyans',\n",
              " 'acharyas',\n",
              " 'ache',\n",
              " 'acheart',\n",
              " 'acheivable',\n",
              " 'acheive',\n",
              " 'acheived',\n",
              " 'acheivement',\n",
              " 'acheiving',\n",
              " 'acheron',\n",
              " 'achhe',\n",
              " 'achievable',\n",
              " 'achieve',\n",
              " 'achievement',\n",
              " 'achievments',\n",
              " 'achilles',\n",
              " 'achingly',\n",
              " 'achintya',\n",
              " 'achittnis',\n",
              " 'achive',\n",
              " 'achived',\n",
              " 'achives',\n",
              " 'achiving',\n",
              " 'achmed',\n",
              " 'achmednut',\n",
              " 'achof',\n",
              " 'acholars',\n",
              " 'aci',\n",
              " 'acid',\n",
              " 'acident',\n",
              " 'acidic',\n",
              " 'acidsnow',\n",
              " 'acidy',\n",
              " 'acim',\n",
              " 'aciopruy',\n",
              " 'acisd',\n",
              " 'ack',\n",
              " 'ackcr',\n",
              " 'acker',\n",
              " 'acknoledge',\n",
              " 'acknolwedge',\n",
              " 'acknowledge',\n",
              " 'acknowledgement',\n",
              " 'acknowledgment',\n",
              " 'acknowlege',\n",
              " 'acknowleged',\n",
              " 'ackoz',\n",
              " 'ackrill',\n",
              " 'ackroyd',\n",
              " 'ackthikadiocese',\n",
              " 'ackward',\n",
              " 'aclaimed',\n",
              " 'aclals',\n",
              " 'aclarations',\n",
              " 'aclu',\n",
              " 'acm',\n",
              " 'acme',\n",
              " 'acmeman',\n",
              " 'acmilan',\n",
              " 'acn',\n",
              " 'acne',\n",
              " 'acnient',\n",
              " 'acnowledges',\n",
              " 'aco',\n",
              " 'acog',\n",
              " 'acolyte',\n",
              " 'acomment',\n",
              " 'acomplish',\n",
              " 'acomplishing',\n",
              " 'aconitethrill',\n",
              " 'acoountnility',\n",
              " 'acor',\n",
              " 'acorah',\n",
              " 'acording',\n",
              " 'acordingly',\n",
              " 'acorn',\n",
              " 'acorruptionfreeindia',\n",
              " 'acosta',\n",
              " 'acount',\n",
              " 'acountant',\n",
              " 'acounts',\n",
              " 'acouple',\n",
              " 'acousmatic',\n",
              " 'acoustic',\n",
              " 'acoustical',\n",
              " 'acpbg',\n",
              " 'acps',\n",
              " 'acquaint',\n",
              " 'acquaintance',\n",
              " 'acquaintanced',\n",
              " 'acquaintanceship',\n",
              " 'acquantances',\n",
              " 'acquasa',\n",
              " 'acquiesce',\n",
              " 'acquiescence',\n",
              " 'acquire',\n",
              " 'acquis',\n",
              " 'acquisition',\n",
              " 'acquit',\n",
              " 'acquittal',\n",
              " 'acr',\n",
              " 'acragas',\n",
              " 'acre',\n",
              " 'acreage',\n",
              " 'acreas',\n",
              " 'acresso',\n",
              " 'acrimonious',\n",
              " 'acrimony',\n",
              " 'acrobat',\n",
              " 'acrobatic',\n",
              " 'acroloxoidea',\n",
              " 'acrony',\n",
              " 'acronym',\n",
              " 'across',\n",
              " 'acrossed',\n",
              " 'acroterion',\n",
              " 'acrylic',\n",
              " 'acryllium',\n",
              " 'acsh',\n",
              " 'acst',\n",
              " 'act',\n",
              " 'acta',\n",
              " 'actally',\n",
              " 'actaully',\n",
              " 'actdec',\n",
              " 'acter',\n",
              " 'actf',\n",
              " 'actg',\n",
              " 'actgnetwork',\n",
              " 'acticle',\n",
              " 'acticles',\n",
              " 'actieforum',\n",
              " 'actiion',\n",
              " 'actin',\n",
              " 'actinide',\n",
              " 'action',\n",
              " 'actionable',\n",
              " 'actionbioscience',\n",
              " 'actionbut',\n",
              " 'actiongirls',\n",
              " 'actionism',\n",
              " 'actionshot',\n",
              " 'actionwhich',\n",
              " 'activ',\n",
              " 'activate',\n",
              " 'activation',\n",
              " 'active',\n",
              " 'activecollab',\n",
              " 'actively',\n",
              " 'activetab',\n",
              " 'activetcl',\n",
              " 'actividade',\n",
              " 'activision',\n",
              " 'activisionvalue',\n",
              " 'activism',\n",
              " 'activist',\n",
              " 'activites',\n",
              " 'activits',\n",
              " 'activitties',\n",
              " 'activity',\n",
              " 'activley',\n",
              " 'activly',\n",
              " 'acton',\n",
              " 'actor',\n",
              " 'actown',\n",
              " 'actreess',\n",
              " 'actress',\n",
              " 'actu',\n",
              " 'actual',\n",
              " 'actualisation',\n",
              " 'actuality',\n",
              " 'actuall',\n",
              " 'actuallity',\n",
              " 'actually',\n",
              " 'actualy',\n",
              " 'actuator',\n",
              " 'actuially',\n",
              " 'actully',\n",
              " 'actus',\n",
              " 'actvsm',\n",
              " 'acu',\n",
              " 'acually',\n",
              " 'acuccowhatever',\n",
              " 'acucse',\n",
              " 'acuity',\n",
              " 'acukas',\n",
              " 'acuman',\n",
              " 'acumen',\n",
              " 'acupressure',\n",
              " 'acupuncture',\n",
              " 'acupuncturists',\n",
              " 'acuracy',\n",
              " 'acurate',\n",
              " 'acus',\n",
              " 'acusations',\n",
              " 'acuse',\n",
              " 'acused',\n",
              " 'acuses',\n",
              " 'acusing',\n",
              " 'acussative',\n",
              " 'acussed',\n",
              " 'acussing',\n",
              " 'acutal',\n",
              " 'acutally',\n",
              " 'acute',\n",
              " 'acutely',\n",
              " 'acuteness',\n",
              " 'acw',\n",
              " 'acy',\n",
              " 'acyl',\n",
              " 'acyo',\n",
              " 'ada',\n",
              " 'adaalat',\n",
              " 'adaayein',\n",
              " 'adage',\n",
              " 'adaikkammai',\n",
              " 'adair',\n",
              " 'adal',\n",
              " 'adalbert',\n",
              " 'adalius',\n",
              " 'adam',\n",
              " 'adama',\n",
              " 'adamant',\n",
              " 'adamantly',\n",
              " 'adamatly',\n",
              " 'adambro',\n",
              " 'adamclisi',\n",
              " 'adament',\n",
              " 'adamic',\n",
              " 'adamkey',\n",
              " 'adamovka',\n",
              " 'adams',\n",
              " 'adamsawlawrence',\n",
              " 'adamson',\n",
              " 'adan',\n",
              " 'adana',\n",
              " 'adani',\n",
              " 'adania',\n",
              " 'adanson',\n",
              " 'adap',\n",
              " 'adapations',\n",
              " 'adapt',\n",
              " 'adaptability',\n",
              " 'adaptation',\n",
              " 'adaptees',\n",
              " 'adapter',\n",
              " 'adaptive',\n",
              " 'adaptively',\n",
              " 'adaquate',\n",
              " 'adari',\n",
              " 'adarsh',\n",
              " 'adaware',\n",
              " 'aday',\n",
              " 'adays',\n",
              " 'adb',\n",
              " 'adba',\n",
              " 'adblock',\n",
              " 'adbusters',\n",
              " 'adc',\n",
              " 'adccording',\n",
              " 'adcom',\n",
              " 'add',\n",
              " 'adda',\n",
              " 'addad',\n",
              " 'addams',\n",
              " 'addation',\n",
              " 'addax',\n",
              " 'addbot',\n",
              " 'addc',\n",
              " 'addded',\n",
              " 'adddition',\n",
              " 'addedd',\n",
              " 'addendum',\n",
              " 'addenum',\n",
              " 'adder',\n",
              " 'addeventlistener',\n",
              " 'addhoc',\n",
              " 'addicion',\n",
              " 'addict',\n",
              " 'addiction',\n",
              " 'addictive',\n",
              " 'addie',\n",
              " 'addindeed',\n",
              " 'addingi',\n",
              " 'addington',\n",
              " 'addis',\n",
              " 'addiset',\n",
              " 'addison',\n",
              " 'addition',\n",
              " 'additiona',\n",
              " 'additional',\n",
              " ...]"
            ]
          },
          "metadata": {},
          "execution_count": 338
        }
      ],
      "source": [
        "vectorizer.get_feature_names()\n",
        "\n",
        "# Spell Check necessary?"
      ]
    },
    {
      "cell_type": "code",
      "execution_count": 339,
      "metadata": {
        "id": "Tm93AT-71-e6"
      },
      "outputs": [],
      "source": [
        "# vectorizer.vocabulary_"
      ]
    },
    {
      "cell_type": "markdown",
      "source": [
        "# Train-Test Split"
      ],
      "metadata": {
        "id": "Y7sYduYGBCoD"
      }
    },
    {
      "cell_type": "code",
      "source": [
        "Y_train = df_train.drop(columns=[\"id\", \"text\"]).to_numpy()"
      ],
      "metadata": {
        "id": "RbolYrHNBRyG"
      },
      "execution_count": 340,
      "outputs": []
    },
    {
      "cell_type": "code",
      "source": [
        "X_train = TF_IDF_train\n",
        "X_test = TF_IDF_test"
      ],
      "metadata": {
        "id": "16PvbpTRBJ_5"
      },
      "execution_count": 341,
      "outputs": []
    },
    {
      "cell_type": "markdown",
      "metadata": {
        "id": "PNDFcNuc1-e8"
      },
      "source": [
        "# Model Selection and Training"
      ]
    },
    {
      "cell_type": "markdown",
      "metadata": {
        "id": "IrBaBpDz1-e8"
      },
      "source": [
        "This is a <b>multi-label classification</b> problem (Text can be classified into multiple labels simultaneosly or none)\n",
        "\n",
        "NOTE - This is different from <b>multi-class classification</b> in which the sample is assigned to only a single class from the pool of multiple classes."
      ]
    },
    {
      "cell_type": "markdown",
      "source": [
        "## OneVsRest"
      ],
      "metadata": {
        "id": "4-LlX6UtPRUC"
      }
    },
    {
      "cell_type": "markdown",
      "source": [
        "### Logistic Regression"
      ],
      "metadata": {
        "id": "TOL4SkSi3nm5"
      }
    },
    {
      "cell_type": "markdown",
      "source": [
        "Training"
      ],
      "metadata": {
        "id": "epOAzQzEEYqy"
      }
    },
    {
      "cell_type": "code",
      "source": [
        "from sklearn.linear_model import LogisticRegression\n",
        "from sklearn.metrics import roc_auc_score\n",
        "\n",
        "LR = []\n",
        "\n",
        "for i in range(Y_train.shape[1]):\n",
        "  LR.append(LogisticRegression().fit(X_train, Y_train[:, i]))"
      ],
      "metadata": {
        "id": "A_MPsVfE32hi"
      },
      "execution_count": 342,
      "outputs": []
    },
    {
      "cell_type": "markdown",
      "source": [
        "Inference - Train data"
      ],
      "metadata": {
        "id": "kv-dBH6CEdDb"
      }
    },
    {
      "cell_type": "code",
      "source": [
        "Y_train_pred = np.ones((Y_train.shape[0], Y_train.shape[1]))\n",
        "\n",
        "for i in range(Y_train.shape[1]):\n",
        "  Y_train_pred[:, i] = LR[i].predict(X_train)"
      ],
      "metadata": {
        "id": "_6YdfvR4-YmM"
      },
      "execution_count": 343,
      "outputs": []
    },
    {
      "cell_type": "code",
      "source": [
        "Y_train_pred_prob = np.ones((Y_train.shape[0], Y_train.shape[1]))\n",
        "\n",
        "for i in range(Y_train.shape[1]):\n",
        "  Y_train_pred_prob[:, i] = LR[i].predict_proba(X_train)[:, 1]"
      ],
      "metadata": {
        "id": "xDs06ORO81xX"
      },
      "execution_count": 344,
      "outputs": []
    },
    {
      "cell_type": "code",
      "source": [
        "roc_auc_score(y_true=Y_train, y_score=Y_train_pred)"
      ],
      "metadata": {
        "colab": {
          "base_uri": "https://localhost:8080/"
        },
        "id": "mOKaeOk85b1z",
        "outputId": "001dc312-33db-49a6-d29e-516394ab2009"
      },
      "execution_count": 345,
      "outputs": [
        {
          "output_type": "execute_result",
          "data": {
            "text/plain": [
              "0.6848582468576526"
            ]
          },
          "metadata": {},
          "execution_count": 345
        }
      ]
    },
    {
      "cell_type": "code",
      "source": [
        "roc_auc_score(y_true=Y_train, y_score=Y_train_pred_prob)"
      ],
      "metadata": {
        "colab": {
          "base_uri": "https://localhost:8080/"
        },
        "id": "pwdLRJPHFDIo",
        "outputId": "5d74b569-d482-47e9-eb63-c41c0a1b2e20"
      },
      "execution_count": 346,
      "outputs": [
        {
          "output_type": "execute_result",
          "data": {
            "text/plain": [
              "0.9909609210023732"
            ]
          },
          "metadata": {},
          "execution_count": 346
        }
      ]
    },
    {
      "cell_type": "markdown",
      "source": [
        "Inference - Test data"
      ],
      "metadata": {
        "id": "CZMvVnVDEi4Y"
      }
    },
    {
      "cell_type": "code",
      "source": [
        "Y_test_pred = np.ones((X_test.shape[0], Y_train.shape[1]))\n",
        "\n",
        "for i in range(Y_train.shape[1]):\n",
        "  Y_test_pred[:, i] = LR[i].predict(X_test)"
      ],
      "metadata": {
        "id": "-BmOViDkEr9n"
      },
      "execution_count": 347,
      "outputs": []
    },
    {
      "cell_type": "code",
      "source": [
        "Y_test_pred_prob = np.ones((X_test.shape[0], Y_train.shape[1]))\n",
        "\n",
        "for i in range(Y_train.shape[1]):\n",
        "  Y_test_pred_prob[:, i] = LR[i].predict_proba(X_test)[:, 1]"
      ],
      "metadata": {
        "id": "5-pzkxG2Er9p"
      },
      "execution_count": 348,
      "outputs": []
    },
    {
      "cell_type": "markdown",
      "source": [
        "### Random Forest"
      ],
      "metadata": {
        "id": "I-rLtHdkQ0j6"
      }
    },
    {
      "cell_type": "markdown",
      "source": [
        "# Exporting test predictions"
      ],
      "metadata": {
        "id": "Q51kvtNxMsfT"
      }
    },
    {
      "cell_type": "code",
      "source": [
        "df_export = pd.DataFrame(data=Y_test_pred_prob, columns=[\"harsh\", \"extremely_harsh\",\"vulgar\",\"threatening\",\"disrespect\",\"targeted_hate\"])"
      ],
      "metadata": {
        "id": "EEhb6c9O6htU"
      },
      "execution_count": 349,
      "outputs": []
    },
    {
      "cell_type": "code",
      "source": [
        "df_export.insert(loc=0, column='id', value=df_test['id'])"
      ],
      "metadata": {
        "id": "IXY2WqZ58cpP"
      },
      "execution_count": 350,
      "outputs": []
    },
    {
      "cell_type": "code",
      "source": [
        "df_export.to_csv('prediction.csv',index=False)"
      ],
      "metadata": {
        "id": "1haFpaXA8_hO"
      },
      "execution_count": 351,
      "outputs": []
    }
  ],
  "metadata": {
    "kernelspec": {
      "display_name": "Python 3.8.10 64-bit",
      "language": "python",
      "name": "python3"
    },
    "language_info": {
      "codemirror_mode": {
        "name": "ipython",
        "version": 3
      },
      "file_extension": ".py",
      "mimetype": "text/x-python",
      "name": "python",
      "nbconvert_exporter": "python",
      "pygments_lexer": "ipython3",
      "version": "3.8.10"
    },
    "orig_nbformat": 4,
    "vscode": {
      "interpreter": {
        "hash": "916dbcbb3f70747c44a77c7bcd40155683ae19c65e1c03b4aa3499c5328201f1"
      }
    },
    "colab": {
      "provenance": []
    }
  },
  "nbformat": 4,
  "nbformat_minor": 0
}