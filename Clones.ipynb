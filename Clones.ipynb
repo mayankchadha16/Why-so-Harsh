{
  "cells": [
    {
      "cell_type": "code",
      "execution_count": 1,
      "metadata": {
        "colab": {
          "base_uri": "https://localhost:8080/"
        },
        "id": "rlZI50X61-eN",
        "outputId": "753019ad-2f31-4cf0-ef28-03ea6d7455bc"
      },
      "outputs": [],
      "source": [
        "import pandas as pd\n",
        "import numpy as np\n",
        "import scipy.sparse as sp\n",
        "\n",
        "from sklearn.multiclass import OneVsRestClassifier\n",
        "from sklearn.multioutput import MultiOutputClassifier, ClassifierChain\n",
        "from sklearn.feature_extraction.text import TfidfVectorizer\n",
        "from sklearn.linear_model import LogisticRegression, RidgeClassifier\n",
        "from sklearn.naive_bayes import MultinomialNB\n",
        "from sklearn.svm import NuSVC, SVC\n",
        "from sklearn.ensemble import RandomForestClassifier, VotingClassifier\n",
        "\n",
        "from sklearn.pipeline import Pipeline, make_union\n",
        "from sklearn.metrics import roc_auc_score, f1_score\n",
        "from skmultilearn.model_selection import iterative_train_test_split\n",
        "from sklearn.model_selection import cross_val_score\n",
        "from sklearn.calibration import CalibratedClassifierCV\n",
        "\n",
        "import xgboost as xgb\n",
        "\n",
        "# !pip install -U imbalanced-learn\n",
        "from imblearn.over_sampling import ADASYN, SMOTE, RandomOverSampler\n",
        "from imblearn.under_sampling import RandomUnderSampler, NearMiss\n",
        "from imblearn.combine import SMOTEENN, SMOTETomek\n",
        "\n",
        "from tqdm import tqdm\n",
        "\n",
        "import matplotlib.pyplot as plt\n",
        "from matplotlib import rcParams\n",
        "import seaborn as sns\n",
        "\n",
        "# Setting global parameters for the Plots\n",
        "rcParams['figure.figsize'] = 18, 9 \n",
        "rcParams['axes.spines.top'] = False\n",
        "rcParams['axes.spines.right'] = False\n",
        "rcParams['lines.linewidth'] = 2.5\n",
        "rcParams['xtick.labelsize'] = 'smaller'\n",
        "rcParams['ytick.labelsize'] = 'smaller'\n",
        "rcParams['axes.labelpad'] = 15"
      ]
    },
    {
      "cell_type": "code",
      "execution_count": 2,
      "metadata": {
        "id": "D4O3MU9OlXYC"
      },
      "outputs": [],
      "source": [
        "# read preprocessed data\n",
        "\n",
        "X_train = sp.load_npz(\"./preprocessed_data/Preprocessed_X_train.npz\")\n",
        "X_test = sp.load_npz(\"./preprocessed_data/Preprocessed_X_test.npz\")\n",
        "Y_train = np.load(file=\"./preprocessed_data/Preprocessed_Y_train.npy\")\n",
        "\n",
        "df_test = pd.read_csv(\"test.csv\")\n",
        "\n",
        "labels = ['harsh', 'extremely_harsh', 'vulgar', 'threatening', 'disrespect', 'targeted_hate']"
      ]
    },
    {
      "cell_type": "markdown",
      "metadata": {},
      "source": [
        "### Naive Bayes"
      ]
    },
    {
      "cell_type": "code",
      "execution_count": 16,
      "metadata": {},
      "outputs": [
        {
          "name": "stdout",
          "output_type": "stream",
          "text": [
            "CV_SCORE -  0.956268770821925\n"
          ]
        }
      ],
      "source": [
        "NB = []\n",
        "CVR = []\n",
        "for i in range(len(labels)):\n",
        "\tNB.append(MultinomialNB(alpha=0.04))\n",
        "\tCVR.append(cross_val_score(NB[i], X_train, Y_train[:, i], cv=5, n_jobs=-1, scoring=\"roc_auc\"))\n",
        "\tNB[i] = NB[i].fit(X_train, Y_train[:, i])\n",
        "\n",
        "print(\"CV_SCORE - \", np.array([i.mean() for i in CVR]).mean())"
      ]
    },
    {
      "cell_type": "markdown",
      "metadata": {
        "id": "4-LlX6UtPRUC"
      },
      "source": [
        "### Logistic Regression without Sampling"
      ]
    },
    {
      "cell_type": "code",
      "execution_count": 17,
      "metadata": {},
      "outputs": [
        {
          "name": "stdout",
          "output_type": "stream",
          "text": [
            "CV_SCORE -  0.9848657106580413\n"
          ]
        }
      ],
      "source": [
        "LR = []\n",
        "CVR = []\n",
        "for i in range(len(labels)):\n",
        "\tLR.append(LogisticRegression(max_iter=1000, C=1.2))\n",
        "\tCVR.append(cross_val_score(LR[i], X_train, Y_train[:, i], cv=5, n_jobs=-1, scoring=\"roc_auc\"))\n",
        "\tLR[i] = LR[i].fit(X_train, Y_train[:, i])\n",
        "\n",
        "print(\"CV_SCORE - \", np.array([i.mean() for i in CVR]).mean())"
      ]
    },
    {
      "cell_type": "markdown",
      "metadata": {
        "id": "_WrkmeXvI3y0"
      },
      "source": [
        "### Logistic Regression with Sampling -"
      ]
    },
    {
      "cell_type": "code",
      "execution_count": 4,
      "metadata": {},
      "outputs": [],
      "source": [
        "param_C = [1.4, 1.3, 1.1, 1.3, 0.7, 1.1]\t# value for parameter C for each class\n",
        "x = [X_train for i in range(len(labels))]\n",
        "y = [Y_train[:, i] for i in range(len(labels))]\n",
        "\n",
        "# Applying Oversampling and Undersampling for label 1 and 3\n",
        "x[1], y[1] = RandomOverSampler(random_state=1, sampling_strategy=0.15).fit_resample(X_train, Y_train[:, 1])\n",
        "x[1], y[1] = RandomUnderSampler(random_state=0, sampling_strategy=1).fit_resample(x[1], y[1])\n",
        "\n",
        "x[3], y[3] = RandomOverSampler(random_state=0, sampling_strategy=0.18).fit_resample(X_train, Y_train[:, 3])\n",
        "x[3], y[3] = RandomUnderSampler(random_state=0, sampling_strategy=1).fit_resample(x[3], y[3])"
      ]
    },
    {
      "cell_type": "code",
      "execution_count": 19,
      "metadata": {},
      "outputs": [
        {
          "name": "stdout",
          "output_type": "stream",
          "text": [
            "CV_SCORE -  0.9877318886860572\n"
          ]
        }
      ],
      "source": [
        "LRS = []\n",
        "CVR = []\n",
        "for i in range(len(labels)):\n",
        "\tLRS.append(LogisticRegression(max_iter=1000, C=param_C[i]))\n",
        "\tCVR.append(cross_val_score(LRS[i], x[i], y[i], cv=5, n_jobs=-1, scoring=\"roc_auc\"))\n",
        "\tLRS[i] = LRS[i].fit(x[i], y[i])\n",
        "\n",
        "print(\"CV_SCORE - \", np.array([i.mean() for i in CVR]).mean())"
      ]
    },
    {
      "cell_type": "code",
      "execution_count": 20,
      "metadata": {},
      "outputs": [],
      "source": [
        "# inference\n",
        "# Y_test_pred= np.ones((X_test.shape[0], Y_train.shape[1]))\n",
        "\n",
        "# for i in range(len(labels)):\n",
        "#   Y_test_pred[:, i] = LRS[i].predict_proba(X_test)[:, 1]"
      ]
    },
    {
      "attachments": {},
      "cell_type": "markdown",
      "metadata": {},
      "source": [
        "### Classifier Chains "
      ]
    },
    {
      "cell_type": "code",
      "execution_count": 21,
      "metadata": {},
      "outputs": [
        {
          "name": "stderr",
          "output_type": "stream",
          "text": [
            "100%|██████████| 10/10 [17:43<00:00, 106.39s/it]\n"
          ]
        }
      ],
      "source": [
        "X_split_train, Y_split_train, X_split_test, Y_split_test = iterative_train_test_split(X_train, Y_train, test_size = 0.1)\n",
        "\n",
        "chains = [ClassifierChain(LogisticRegression(max_iter=1000, C=1.2), order=\"random\", random_state=i) for i in range(10)]\n",
        "\n",
        "for chain in tqdm(chains):\n",
        "    chain.fit(X_split_train, Y_split_train)"
      ]
    },
    {
      "cell_type": "code",
      "execution_count": 22,
      "metadata": {},
      "outputs": [
        {
          "name": "stdout",
          "output_type": "stream",
          "text": [
            "CV Score (ensemble) -  0.9856101773449771\n"
          ]
        }
      ],
      "source": [
        "Y_pred_chains = np.array([chain.predict_proba(X_split_test) for chain in chains])\n",
        "Y_pred_ensemble = Y_pred_chains.mean(axis=0)\n",
        "\n",
        "print(\"CV Score (ensemble) - \", roc_auc_score(y_true=Y_split_test, y_score=Y_pred_ensemble))\n",
        "\n",
        "# for i in range(10):\n",
        "#     print(\"Test Data - \", roc_auc_score(y_true=Y_train, y_score=Y_pred_chains[i]))"
      ]
    },
    {
      "attachments": {},
      "cell_type": "markdown",
      "metadata": {},
      "source": [
        "### Ridge Classifier"
      ]
    },
    {
      "cell_type": "code",
      "execution_count": 23,
      "metadata": {},
      "outputs": [
        {
          "name": "stderr",
          "output_type": "stream",
          "text": [
            "100%|██████████| 6/6 [02:17<00:00, 22.90s/it]"
          ]
        },
        {
          "name": "stdout",
          "output_type": "stream",
          "text": [
            "CV_SCORE -  0.9881889288818556\n"
          ]
        },
        {
          "name": "stderr",
          "output_type": "stream",
          "text": [
            "\n"
          ]
        }
      ],
      "source": [
        "# for Cross Validation (with sampled data)\n",
        "\n",
        "RCS = []\n",
        "CVR = []\n",
        "for i in tqdm(range(len(labels))):\n",
        "\tRCS.append(CalibratedClassifierCV(RidgeClassifier(alpha=15.7), cv=3, ensemble=True))\n",
        "\tCVR.append(cross_val_score(RCS[i], x[i], y[i], cv=5, n_jobs=-1, scoring=\"roc_auc\"))\n",
        "\tRCS[i] = RCS[i].fit(x[i], y[i])\n",
        "\t\n",
        "\n",
        "print(\"CV_SCORE - \", np.array([i.mean() for i in CVR]).mean())"
      ]
    },
    {
      "cell_type": "code",
      "execution_count": 24,
      "metadata": {},
      "outputs": [],
      "source": [
        "OVR_RC = OneVsRestClassifier(CalibratedClassifierCV(RidgeClassifier(alpha=15.7), cv=3, ensemble=True), n_jobs=-1)\n",
        "\n",
        "OVR_RC.fit(X_train, Y_train)\n",
        "# Y_test_pred = OVR_RC.predict_proba(X_test)"
      ]
    },
    {
      "attachments": {},
      "cell_type": "markdown",
      "metadata": {},
      "source": [
        "### Voting Classifier "
      ]
    },
    {
      "cell_type": "code",
      "execution_count": 25,
      "metadata": {},
      "outputs": [
        {
          "name": "stderr",
          "output_type": "stream",
          "text": [
            "100%|██████████| 6/6 [01:18<00:00, 13.08s/it]\n"
          ]
        }
      ],
      "source": [
        "VC = []\n",
        "param_alpha = [9, 14, 11, 15.6, 11.8, 20.1]\n",
        "param_C = [1.4, 1.3, 1.1, 1.3, 0.7, 1.1]\n",
        "\n",
        "for i in tqdm(range(len(labels))):\n",
        "\tclf1 = LogisticRegression(max_iter=1000, C=param_C[i])\n",
        "\tclf2 = CalibratedClassifierCV(RidgeClassifier(alpha=param_alpha[i]), cv=3, ensemble=True)\n",
        "\t# clf3 = RandomForestClassifier(max_depth=100, n_estimators=500, max_features=\"sqrt\", min_samples_split=100, bootstrap=False, min_samples_leaf=3)\n",
        "\tVC.append(VotingClassifier(estimators=[('lr', clf1), ('rc', clf2)], voting='soft', n_jobs=-1))\n",
        "\tVC[i] = VC[i].fit(x[i], y[i])"
      ]
    },
    {
      "cell_type": "code",
      "execution_count": 26,
      "metadata": {},
      "outputs": [],
      "source": [
        "# For predicting test labels\n",
        "\n",
        "Y_test_pred= np.ones((X_test.shape[0], Y_train.shape[1]))\n",
        "\n",
        "for i in range(len(labels)):\n",
        "  Y_test_pred[:, i] = VC[i].predict_proba(X_test)[:, 1]"
      ]
    },
    {
      "attachments": {},
      "cell_type": "markdown",
      "metadata": {},
      "source": [
        "### Random Forest"
      ]
    },
    {
      "cell_type": "code",
      "execution_count": 27,
      "metadata": {},
      "outputs": [
        {
          "data": {
            "text/html": [
              "<style>#sk-container-id-1 {color: black;background-color: white;}#sk-container-id-1 pre{padding: 0;}#sk-container-id-1 div.sk-toggleable {background-color: white;}#sk-container-id-1 label.sk-toggleable__label {cursor: pointer;display: block;width: 100%;margin-bottom: 0;padding: 0.3em;box-sizing: border-box;text-align: center;}#sk-container-id-1 label.sk-toggleable__label-arrow:before {content: \"▸\";float: left;margin-right: 0.25em;color: #696969;}#sk-container-id-1 label.sk-toggleable__label-arrow:hover:before {color: black;}#sk-container-id-1 div.sk-estimator:hover label.sk-toggleable__label-arrow:before {color: black;}#sk-container-id-1 div.sk-toggleable__content {max-height: 0;max-width: 0;overflow: hidden;text-align: left;background-color: #f0f8ff;}#sk-container-id-1 div.sk-toggleable__content pre {margin: 0.2em;color: black;border-radius: 0.25em;background-color: #f0f8ff;}#sk-container-id-1 input.sk-toggleable__control:checked~div.sk-toggleable__content {max-height: 200px;max-width: 100%;overflow: auto;}#sk-container-id-1 input.sk-toggleable__control:checked~label.sk-toggleable__label-arrow:before {content: \"▾\";}#sk-container-id-1 div.sk-estimator input.sk-toggleable__control:checked~label.sk-toggleable__label {background-color: #d4ebff;}#sk-container-id-1 div.sk-label input.sk-toggleable__control:checked~label.sk-toggleable__label {background-color: #d4ebff;}#sk-container-id-1 input.sk-hidden--visually {border: 0;clip: rect(1px 1px 1px 1px);clip: rect(1px, 1px, 1px, 1px);height: 1px;margin: -1px;overflow: hidden;padding: 0;position: absolute;width: 1px;}#sk-container-id-1 div.sk-estimator {font-family: monospace;background-color: #f0f8ff;border: 1px dotted black;border-radius: 0.25em;box-sizing: border-box;margin-bottom: 0.5em;}#sk-container-id-1 div.sk-estimator:hover {background-color: #d4ebff;}#sk-container-id-1 div.sk-parallel-item::after {content: \"\";width: 100%;border-bottom: 1px solid gray;flex-grow: 1;}#sk-container-id-1 div.sk-label:hover label.sk-toggleable__label {background-color: #d4ebff;}#sk-container-id-1 div.sk-serial::before {content: \"\";position: absolute;border-left: 1px solid gray;box-sizing: border-box;top: 0;bottom: 0;left: 50%;z-index: 0;}#sk-container-id-1 div.sk-serial {display: flex;flex-direction: column;align-items: center;background-color: white;padding-right: 0.2em;padding-left: 0.2em;position: relative;}#sk-container-id-1 div.sk-item {position: relative;z-index: 1;}#sk-container-id-1 div.sk-parallel {display: flex;align-items: stretch;justify-content: center;background-color: white;position: relative;}#sk-container-id-1 div.sk-item::before, #sk-container-id-1 div.sk-parallel-item::before {content: \"\";position: absolute;border-left: 1px solid gray;box-sizing: border-box;top: 0;bottom: 0;left: 50%;z-index: -1;}#sk-container-id-1 div.sk-parallel-item {display: flex;flex-direction: column;z-index: 1;position: relative;background-color: white;}#sk-container-id-1 div.sk-parallel-item:first-child::after {align-self: flex-end;width: 50%;}#sk-container-id-1 div.sk-parallel-item:last-child::after {align-self: flex-start;width: 50%;}#sk-container-id-1 div.sk-parallel-item:only-child::after {width: 0;}#sk-container-id-1 div.sk-dashed-wrapped {border: 1px dashed gray;margin: 0 0.4em 0.5em 0.4em;box-sizing: border-box;padding-bottom: 0.4em;background-color: white;}#sk-container-id-1 div.sk-label label {font-family: monospace;font-weight: bold;display: inline-block;line-height: 1.2em;}#sk-container-id-1 div.sk-label-container {text-align: center;}#sk-container-id-1 div.sk-container {/* jupyter's `normalize.less` sets `[hidden] { display: none; }` but bootstrap.min.css set `[hidden] { display: none !important; }` so we also need the `!important` here to be able to override the default hidden behavior on the sphinx rendered scikit-learn.org. See: https://github.com/scikit-learn/scikit-learn/issues/21755 */display: inline-block !important;position: relative;}#sk-container-id-1 div.sk-text-repr-fallback {display: none;}</style><div id=\"sk-container-id-1\" class=\"sk-top-container\"><div class=\"sk-text-repr-fallback\"><pre>RandomForestClassifier(bootstrap=False, max_depth=100, min_samples_leaf=3,\n",
              "                       min_samples_split=100, n_estimators=500, n_jobs=-1)</pre><b>In a Jupyter environment, please rerun this cell to show the HTML representation or trust the notebook. <br />On GitHub, the HTML representation is unable to render, please try loading this page with nbviewer.org.</b></div><div class=\"sk-container\" hidden><div class=\"sk-item\"><div class=\"sk-estimator sk-toggleable\"><input class=\"sk-toggleable__control sk-hidden--visually\" id=\"sk-estimator-id-1\" type=\"checkbox\" checked><label for=\"sk-estimator-id-1\" class=\"sk-toggleable__label sk-toggleable__label-arrow\">RandomForestClassifier</label><div class=\"sk-toggleable__content\"><pre>RandomForestClassifier(bootstrap=False, max_depth=100, min_samples_leaf=3,\n",
              "                       min_samples_split=100, n_estimators=500, n_jobs=-1)</pre></div></div></div></div></div>"
            ],
            "text/plain": [
              "RandomForestClassifier(bootstrap=False, max_depth=100, min_samples_leaf=3,\n",
              "                       min_samples_split=100, n_estimators=500, n_jobs=-1)"
            ]
          },
          "execution_count": 27,
          "metadata": {},
          "output_type": "execute_result"
        }
      ],
      "source": [
        "X_split_train, Y_split_train, X_split_test, Y_split_test = iterative_train_test_split(X_train, Y_train, test_size = 0.1)\n",
        "\n",
        "RF = RandomForestClassifier(max_depth=100, n_estimators=500, max_features=\"sqrt\", min_samples_split=100, bootstrap=False, min_samples_leaf=3, n_jobs=-1)\n",
        "RF.fit(X_split_train, Y_split_train)"
      ]
    },
    {
      "cell_type": "code",
      "execution_count": 28,
      "metadata": {},
      "outputs": [
        {
          "name": "stdout",
          "output_type": "stream",
          "text": [
            "CV Score -  0.9774656780918689\n"
          ]
        }
      ],
      "source": [
        "Y_train_pred = RF.predict_proba(X_split_train)\n",
        "Y_test_pred = RF.predict_proba(X_split_test)\n",
        "\n",
        "temp1 = np.ones((Y_split_train.shape[0], Y_split_train.shape[1]))\n",
        "temp2 = np.ones((X_split_test.shape[0], Y_split_train.shape[1]))\n",
        "\n",
        "for i in range(6):\n",
        "\ttemp1[:, i] = Y_train_pred[i][:, 1]\n",
        "\ttemp2[:, i] = Y_test_pred[i][:, 1]\n",
        "\n",
        "Y_train_pred = temp1\n",
        "Y_test_pred = temp2\n",
        "\n",
        "print(\"CV Score - \", roc_auc_score(y_true=Y_split_test, y_score=Y_test_pred))"
      ]
    },
    {
      "cell_type": "markdown",
      "metadata": {
        "id": "XZms8ghV3Atc"
      },
      "source": [
        "## XGBoost"
      ]
    },
    {
      "cell_type": "code",
      "execution_count": 5,
      "metadata": {},
      "outputs": [
        {
          "name": "stderr",
          "output_type": "stream",
          "text": [
            "100%|██████████| 6/6 [09:35<00:00, 95.98s/it] \n"
          ]
        }
      ],
      "source": [
        "XGB = []\n",
        "for i in tqdm(range(len(labels))):\n",
        "\tXGB.append(xgb.XGBClassifier(n_jobs=-1, alpha=0.5, max_depth=3))\n",
        "\tXGB[i] = XGB[i].fit(x[i], y[i])"
      ]
    },
    {
      "cell_type": "code",
      "execution_count": null,
      "metadata": {},
      "outputs": [],
      "source": [
        "# Y_test_pred= np.ones((X_test.shape[0], Y_train.shape[1]))\n",
        "\n",
        "# for i in range(len(labels)):\n",
        "#   Y_test_pred[:, i] = XGB[i].predict_proba(X_test)[:, 1]"
      ]
    },
    {
      "attachments": {},
      "cell_type": "markdown",
      "metadata": {
        "id": "DoMQowTPmnBJ"
      },
      "source": [
        "## Grid Search CV code"
      ]
    },
    {
      "cell_type": "code",
      "execution_count": 29,
      "metadata": {
        "id": "BhX1oofkKLQb"
      },
      "outputs": [],
      "source": [
        "# from pprint import pprint\n",
        "# from time import time\n",
        "# import logging\n",
        "\n",
        "# from sklearn.model_selection import GridSearchCV\n",
        "\n",
        "# parameters = {\n",
        "#     \"tfidf__binary\": (True, False),\n",
        "#     \"tfidf__max_df\": (0.5, 0.75, 1.0),\n",
        "#     'tfidf__max_features': (None, 25000, 30000, 35000, 40000),\n",
        "#     \"tfidf__ngram_range\": ((1, 1), (1, 2), (2, 2)),  # unigrams or bigrams\n",
        "#     # 'tfidf__use_idf': (True, False),\n",
        "#     # 'tfidf__norm': ('l1', 'l2'),\n",
        "#     # \"clf__max_iter\": (20,),\n",
        "#     # \"clf__alpha\": (0.00001, 0.000001),\n",
        "#     # \"clf__penalty\": (\"l2\", \"elasticnet\"),\n",
        "#     # 'clf__max_iter': (10, 50, 80),\n",
        "# }\n",
        "\n",
        "# grid_search = GridSearchCV(pipeline, parameters, n_jobs=-1, verbose=1, cv=3, scoring='roc_auc')\n",
        "\n",
        "# print(\"Performing grid search...\")\n",
        "# print(\"pipeline:\", [name for name, _ in pipeline.steps])\n",
        "# print(\"parameters:\")\n",
        "# pprint(parameters)\n",
        "# t0 = time()\n",
        "# grid_search.fit(X_train, Y_train)\n",
        "# print(\"done in %0.3fs\" % (time() - t0))\n",
        "# print()\n",
        "\n",
        "# print(\"Best score: %0.3f\" % grid_search.best_score_)\n",
        "# print(\"Best parameters set:\")\n",
        "# best_parameters = grid_search.best_estimator_.get_params()\n",
        "# for param_name in sorted(parameters.keys()):\n",
        "#     print(\"\\t%s: %r\" % (param_name, best_parameters[param_name]))"
      ]
    },
    {
      "cell_type": "code",
      "execution_count": 30,
      "metadata": {
        "id": "D6DX4n6-rGbP"
      },
      "outputs": [],
      "source": [
        "# grid_search.cv_results_"
      ]
    },
    {
      "cell_type": "code",
      "execution_count": 31,
      "metadata": {
        "id": "fSE4wnc9N2-7"
      },
      "outputs": [],
      "source": [
        "# pd.DataFrame(grid_search.cv_results_).sort_values('rank_test_score')"
      ]
    },
    {
      "cell_type": "markdown",
      "metadata": {
        "id": "Q51kvtNxMsfT"
      },
      "source": [
        "# Exporting test predictions"
      ]
    },
    {
      "cell_type": "code",
      "execution_count": 37,
      "metadata": {
        "id": "EEhb6c9O6htU"
      },
      "outputs": [],
      "source": [
        "#Assigning the columns to the obtained data\n",
        "df_export = pd.DataFrame(data=Y_test_pred, columns=[\"harsh\", \"extremely_harsh\",\"vulgar\",\"threatening\",\"disrespect\",\"targeted_hate\"])"
      ]
    },
    {
      "cell_type": "code",
      "execution_count": 38,
      "metadata": {
        "id": "IXY2WqZ58cpP"
      },
      "outputs": [],
      "source": [
        "#appending id in the start\n",
        "df_export.insert(loc=0, column='id', value=df_test['id'])"
      ]
    },
    {
      "cell_type": "code",
      "execution_count": 39,
      "metadata": {
        "id": "1haFpaXA8_hO"
      },
      "outputs": [],
      "source": [
        "#exporting it in the end\n",
        "df_export.to_csv('prediction.csv',index=False)"
      ]
    }
  ],
  "metadata": {
    "colab": {
      "provenance": []
    },
    "kernelspec": {
      "display_name": "Python 3.8.10 64-bit",
      "language": "python",
      "name": "python3"
    },
    "language_info": {
      "codemirror_mode": {
        "name": "ipython",
        "version": 3
      },
      "file_extension": ".py",
      "mimetype": "text/x-python",
      "name": "python",
      "nbconvert_exporter": "python",
      "pygments_lexer": "ipython3",
      "version": "3.8.10"
    },
    "orig_nbformat": 4,
    "vscode": {
      "interpreter": {
        "hash": "916dbcbb3f70747c44a77c7bcd40155683ae19c65e1c03b4aa3499c5328201f1"
      }
    }
  },
  "nbformat": 4,
  "nbformat_minor": 0
}
