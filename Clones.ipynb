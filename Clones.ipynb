{
 "cells": [
  {
   "cell_type": "markdown",
   "metadata": {},
   "source": [
    "# Preprocessing"
   ]
  },
  {
   "cell_type": "code",
   "execution_count": 1,
   "metadata": {},
   "outputs": [],
   "source": [
    "# Let us start by importing the library from the package directory\n",
    "import pandas as pd\n",
    "\n",
    "# Read the data\n",
    "read_data = pd.read_csv(\"./train.csv\")"
   ]
  },
  {
   "cell_type": "code",
   "execution_count": 2,
   "metadata": {},
   "outputs": [
    {
     "data": {
      "text/html": [
       "<div>\n",
       "<style scoped>\n",
       "    .dataframe tbody tr th:only-of-type {\n",
       "        vertical-align: middle;\n",
       "    }\n",
       "\n",
       "    .dataframe tbody tr th {\n",
       "        vertical-align: top;\n",
       "    }\n",
       "\n",
       "    .dataframe thead th {\n",
       "        text-align: right;\n",
       "    }\n",
       "</style>\n",
       "<table border=\"1\" class=\"dataframe\">\n",
       "  <thead>\n",
       "    <tr style=\"text-align: right;\">\n",
       "      <th></th>\n",
       "      <th>id</th>\n",
       "      <th>text</th>\n",
       "      <th>harsh</th>\n",
       "      <th>extremely_harsh</th>\n",
       "      <th>vulgar</th>\n",
       "      <th>threatening</th>\n",
       "      <th>disrespect</th>\n",
       "      <th>targeted_hate</th>\n",
       "    </tr>\n",
       "  </thead>\n",
       "  <tbody>\n",
       "    <tr>\n",
       "      <th>0</th>\n",
       "      <td>a8be7c5d4527adbbf15f</td>\n",
       "      <td>\", 6 December 2007 (UTC)\\nI am interested, not...</td>\n",
       "      <td>0</td>\n",
       "      <td>0</td>\n",
       "      <td>0</td>\n",
       "      <td>0</td>\n",
       "      <td>0</td>\n",
       "      <td>0</td>\n",
       "    </tr>\n",
       "    <tr>\n",
       "      <th>1</th>\n",
       "      <td>0b7ca73f388222aad64d</td>\n",
       "      <td>I added about three missing parameters to temp...</td>\n",
       "      <td>0</td>\n",
       "      <td>0</td>\n",
       "      <td>0</td>\n",
       "      <td>0</td>\n",
       "      <td>0</td>\n",
       "      <td>0</td>\n",
       "    </tr>\n",
       "    <tr>\n",
       "      <th>2</th>\n",
       "      <td>db934381501872ba6f38</td>\n",
       "      <td>SANDBOX?? \\n\\nI DID YOUR MADRE DID IN THE SANDBOX</td>\n",
       "      <td>1</td>\n",
       "      <td>0</td>\n",
       "      <td>0</td>\n",
       "      <td>0</td>\n",
       "      <td>0</td>\n",
       "      <td>0</td>\n",
       "    </tr>\n",
       "    <tr>\n",
       "      <th>3</th>\n",
       "      <td>228015c4a87c4b1f09a7</td>\n",
       "      <td>why good sir? Why? \\n\\nYou, sir, obviously do ...</td>\n",
       "      <td>1</td>\n",
       "      <td>0</td>\n",
       "      <td>1</td>\n",
       "      <td>1</td>\n",
       "      <td>1</td>\n",
       "      <td>0</td>\n",
       "    </tr>\n",
       "    <tr>\n",
       "      <th>4</th>\n",
       "      <td>b18f26cfa1408b52e949</td>\n",
       "      <td>\"\\n\\n Source \\n\\nIncase I forget, or someone e...</td>\n",
       "      <td>0</td>\n",
       "      <td>0</td>\n",
       "      <td>0</td>\n",
       "      <td>0</td>\n",
       "      <td>0</td>\n",
       "      <td>0</td>\n",
       "    </tr>\n",
       "  </tbody>\n",
       "</table>\n",
       "</div>"
      ],
      "text/plain": [
       "                     id                                               text  \\\n",
       "0  a8be7c5d4527adbbf15f  \", 6 December 2007 (UTC)\\nI am interested, not...   \n",
       "1  0b7ca73f388222aad64d  I added about three missing parameters to temp...   \n",
       "2  db934381501872ba6f38  SANDBOX?? \\n\\nI DID YOUR MADRE DID IN THE SANDBOX   \n",
       "3  228015c4a87c4b1f09a7  why good sir? Why? \\n\\nYou, sir, obviously do ...   \n",
       "4  b18f26cfa1408b52e949  \"\\n\\n Source \\n\\nIncase I forget, or someone e...   \n",
       "\n",
       "   harsh  extremely_harsh  vulgar  threatening  disrespect  targeted_hate  \n",
       "0      0                0       0            0           0              0  \n",
       "1      0                0       0            0           0              0  \n",
       "2      1                0       0            0           0              0  \n",
       "3      1                0       1            1           1              0  \n",
       "4      0                0       0            0           0              0  "
      ]
     },
     "execution_count": 2,
     "metadata": {},
     "output_type": "execute_result"
    }
   ],
   "source": [
    "# Check the first five rows of our dataset\n",
    "read_data.head()"
   ]
  },
  {
   "cell_type": "markdown",
   "metadata": {},
   "source": [
    "### Remove urls"
   ]
  },
  {
   "cell_type": "code",
   "execution_count": 3,
   "metadata": {},
   "outputs": [],
   "source": [
    "import re\n",
    "\n",
    "def clean_url(review_text):\n",
    "    return re.sub(r'http\\S+', ' ', review_text)\n",
    "\n",
    "read_data['clean_msg'] = read_data['text'].apply(clean_url)"
   ]
  },
  {
   "cell_type": "markdown",
   "metadata": {},
   "source": [
    "### Remove numbers and punctuation"
   ]
  },
  {
   "cell_type": "code",
   "execution_count": 4,
   "metadata": {},
   "outputs": [],
   "source": [
    "def clean_non_alphanumeric(review_text):\n",
    "    return re.sub('[^a-zA-Z]', ' ', review_text)\n",
    "\n",
    "read_data['clean_msg'] = read_data['clean_msg'].apply(clean_non_alphanumeric)"
   ]
  },
  {
   "cell_type": "code",
   "execution_count": 5,
   "metadata": {},
   "outputs": [
    {
     "data": {
      "text/plain": [
       "'\", 6 December 2007 (UTC)\\nI am interested, not in arguing, but in the policies which resolve our ongoing content dispute. Also, see Wikipedia: WikiProject United States presidential elections for what I\\'ll be working on. Also, the moneybomb closer just self-reverted on two different requests, which echoed what I would have requested.  I will rephrase #3, which I didn\\'t see an answer to, building on our agreement that \"\"moneybomb\"\" should not be a redlink: Given the deletion reversion, what should be the outline of the article called \"\"moneybomb\"\" or should it be submitted for AFD again in due time? (If the latter, see the previous version of #3.) However, this version will require a detailed answer because any ambiguity will only necessitate clarifying questions.   22:32\"'"
      ]
     },
     "execution_count": 5,
     "metadata": {},
     "output_type": "execute_result"
    }
   ],
   "source": [
    "read_data['text'].iloc[0]"
   ]
  },
  {
   "cell_type": "code",
   "execution_count": 6,
   "metadata": {},
   "outputs": [
    {
     "data": {
      "text/plain": [
       "'     December       UTC  I am interested  not in arguing  but in the policies which resolve our ongoing content dispute  Also  see Wikipedia  WikiProject United States presidential elections for what I ll be working on  Also  the moneybomb closer just self reverted on two different requests  which echoed what I would have requested   I will rephrase     which I didn t see an answer to  building on our agreement that   moneybomb   should not be a redlink  Given the deletion reversion  what should be the outline of the article called   moneybomb   or should it be submitted for AFD again in due time   If the latter  see the previous version of      However  this version will require a detailed answer because any ambiguity will only necessitate clarifying questions          '"
      ]
     },
     "execution_count": 6,
     "metadata": {},
     "output_type": "execute_result"
    }
   ],
   "source": [
    "read_data['clean_msg'].iloc[0]"
   ]
  },
  {
   "cell_type": "markdown",
   "metadata": {},
   "source": [
    "### Lowecase the text"
   ]
  },
  {
   "cell_type": "code",
   "execution_count": 7,
   "metadata": {},
   "outputs": [],
   "source": [
    "read_data['clean_msg'] = read_data['clean_msg'].apply(lambda x: x.lower())"
   ]
  },
  {
   "cell_type": "code",
   "execution_count": 8,
   "metadata": {},
   "outputs": [
    {
     "data": {
      "text/plain": [
       "'     december       utc  i am interested  not in arguing  but in the policies which resolve our ongoing content dispute  also  see wikipedia  wikiproject united states presidential elections for what i ll be working on  also  the moneybomb closer just self reverted on two different requests  which echoed what i would have requested   i will rephrase     which i didn t see an answer to  building on our agreement that   moneybomb   should not be a redlink  given the deletion reversion  what should be the outline of the article called   moneybomb   or should it be submitted for afd again in due time   if the latter  see the previous version of      however  this version will require a detailed answer because any ambiguity will only necessitate clarifying questions          '"
      ]
     },
     "execution_count": 8,
     "metadata": {},
     "output_type": "execute_result"
    }
   ],
   "source": [
    "read_data['clean_msg'].iloc[0]"
   ]
  },
  {
   "cell_type": "markdown",
   "metadata": {},
   "source": [
    "### Tokenize the text"
   ]
  },
  {
   "cell_type": "code",
   "execution_count": 9,
   "metadata": {},
   "outputs": [],
   "source": [
    "from nltk.tokenize import word_tokenize\n",
    "\n",
    "read_data['clean_msg'] = read_data.apply(lambda row: word_tokenize(row['clean_msg']), axis=1)"
   ]
  },
  {
   "cell_type": "code",
   "execution_count": 10,
   "metadata": {},
   "outputs": [
    {
     "data": {
      "text/plain": [
       "['december',\n",
       " 'utc',\n",
       " 'i',\n",
       " 'am',\n",
       " 'interested',\n",
       " 'not',\n",
       " 'in',\n",
       " 'arguing',\n",
       " 'but',\n",
       " 'in',\n",
       " 'the',\n",
       " 'policies',\n",
       " 'which',\n",
       " 'resolve',\n",
       " 'our',\n",
       " 'ongoing',\n",
       " 'content',\n",
       " 'dispute',\n",
       " 'also',\n",
       " 'see',\n",
       " 'wikipedia',\n",
       " 'wikiproject',\n",
       " 'united',\n",
       " 'states',\n",
       " 'presidential',\n",
       " 'elections',\n",
       " 'for',\n",
       " 'what',\n",
       " 'i',\n",
       " 'll',\n",
       " 'be',\n",
       " 'working',\n",
       " 'on',\n",
       " 'also',\n",
       " 'the',\n",
       " 'moneybomb',\n",
       " 'closer',\n",
       " 'just',\n",
       " 'self',\n",
       " 'reverted',\n",
       " 'on',\n",
       " 'two',\n",
       " 'different',\n",
       " 'requests',\n",
       " 'which',\n",
       " 'echoed',\n",
       " 'what',\n",
       " 'i',\n",
       " 'would',\n",
       " 'have',\n",
       " 'requested',\n",
       " 'i',\n",
       " 'will',\n",
       " 'rephrase',\n",
       " 'which',\n",
       " 'i',\n",
       " 'didn',\n",
       " 't',\n",
       " 'see',\n",
       " 'an',\n",
       " 'answer',\n",
       " 'to',\n",
       " 'building',\n",
       " 'on',\n",
       " 'our',\n",
       " 'agreement',\n",
       " 'that',\n",
       " 'moneybomb',\n",
       " 'should',\n",
       " 'not',\n",
       " 'be',\n",
       " 'a',\n",
       " 'redlink',\n",
       " 'given',\n",
       " 'the',\n",
       " 'deletion',\n",
       " 'reversion',\n",
       " 'what',\n",
       " 'should',\n",
       " 'be',\n",
       " 'the',\n",
       " 'outline',\n",
       " 'of',\n",
       " 'the',\n",
       " 'article',\n",
       " 'called',\n",
       " 'moneybomb',\n",
       " 'or',\n",
       " 'should',\n",
       " 'it',\n",
       " 'be',\n",
       " 'submitted',\n",
       " 'for',\n",
       " 'afd',\n",
       " 'again',\n",
       " 'in',\n",
       " 'due',\n",
       " 'time',\n",
       " 'if',\n",
       " 'the',\n",
       " 'latter',\n",
       " 'see',\n",
       " 'the',\n",
       " 'previous',\n",
       " 'version',\n",
       " 'of',\n",
       " 'however',\n",
       " 'this',\n",
       " 'version',\n",
       " 'will',\n",
       " 'require',\n",
       " 'a',\n",
       " 'detailed',\n",
       " 'answer',\n",
       " 'because',\n",
       " 'any',\n",
       " 'ambiguity',\n",
       " 'will',\n",
       " 'only',\n",
       " 'necessitate',\n",
       " 'clarifying',\n",
       " 'questions']"
      ]
     },
     "execution_count": 10,
     "metadata": {},
     "output_type": "execute_result"
    }
   ],
   "source": [
    "read_data['clean_msg'].iloc[0]"
   ]
  },
  {
   "cell_type": "markdown",
   "metadata": {},
   "source": [
    "### Remove Stopwords"
   ]
  },
  {
   "cell_type": "code",
   "execution_count": 11,
   "metadata": {},
   "outputs": [],
   "source": [
    "# Uncomment this to install stopwords as it might give LookUp error without it\n",
    "\n",
    "# import nltk   \n",
    "# nltk.download('stopwords')"
   ]
  },
  {
   "cell_type": "code",
   "execution_count": 12,
   "metadata": {},
   "outputs": [],
   "source": [
    "# Import stopwords with nltk.\n",
    "from nltk.corpus import stopwords\n",
    "\n",
    "stop = stopwords.words('english')\n",
    "\n",
    "read_data['clean_msg'] = read_data['clean_msg'].apply(lambda x: [item for item in x if item not in stop])"
   ]
  },
  {
   "cell_type": "code",
   "execution_count": 13,
   "metadata": {},
   "outputs": [
    {
     "data": {
      "text/plain": [
       "['december',\n",
       " 'utc',\n",
       " 'interested',\n",
       " 'arguing',\n",
       " 'policies',\n",
       " 'resolve',\n",
       " 'ongoing',\n",
       " 'content',\n",
       " 'dispute',\n",
       " 'also',\n",
       " 'see',\n",
       " 'wikipedia',\n",
       " 'wikiproject',\n",
       " 'united',\n",
       " 'states',\n",
       " 'presidential',\n",
       " 'elections',\n",
       " 'working',\n",
       " 'also',\n",
       " 'moneybomb',\n",
       " 'closer',\n",
       " 'self',\n",
       " 'reverted',\n",
       " 'two',\n",
       " 'different',\n",
       " 'requests',\n",
       " 'echoed',\n",
       " 'would',\n",
       " 'requested',\n",
       " 'rephrase',\n",
       " 'see',\n",
       " 'answer',\n",
       " 'building',\n",
       " 'agreement',\n",
       " 'moneybomb',\n",
       " 'redlink',\n",
       " 'given',\n",
       " 'deletion',\n",
       " 'reversion',\n",
       " 'outline',\n",
       " 'article',\n",
       " 'called',\n",
       " 'moneybomb',\n",
       " 'submitted',\n",
       " 'afd',\n",
       " 'due',\n",
       " 'time',\n",
       " 'latter',\n",
       " 'see',\n",
       " 'previous',\n",
       " 'version',\n",
       " 'however',\n",
       " 'version',\n",
       " 'require',\n",
       " 'detailed',\n",
       " 'answer',\n",
       " 'ambiguity',\n",
       " 'necessitate',\n",
       " 'clarifying',\n",
       " 'questions']"
      ]
     },
     "execution_count": 13,
     "metadata": {},
     "output_type": "execute_result"
    }
   ],
   "source": [
    "read_data['clean_msg'].iloc[0]"
   ]
  },
  {
   "cell_type": "code",
   "execution_count": 14,
   "metadata": {},
   "outputs": [],
   "source": [
    "from nltk.stem import WordNetLemmatizer\n",
    "\n",
    "lemma = WordNetLemmatizer()\n",
    "\n",
    "def clean_lemmatization(token):\n",
    "    return [lemma.lemmatize(word = w, pos='v') for w in token]\n",
    "\n",
    "read_data['clean_msg'] = read_data['clean_msg'].apply(clean_lemmatization)"
   ]
  },
  {
   "cell_type": "code",
   "execution_count": 15,
   "metadata": {},
   "outputs": [
    {
     "data": {
      "text/plain": [
       "['december',\n",
       " 'utc',\n",
       " 'interest',\n",
       " 'argue',\n",
       " 'policies',\n",
       " 'resolve',\n",
       " 'ongoing',\n",
       " 'content',\n",
       " 'dispute',\n",
       " 'also',\n",
       " 'see',\n",
       " 'wikipedia',\n",
       " 'wikiproject',\n",
       " 'unite',\n",
       " 'state',\n",
       " 'presidential',\n",
       " 'elections',\n",
       " 'work',\n",
       " 'also',\n",
       " 'moneybomb',\n",
       " 'closer',\n",
       " 'self',\n",
       " 'revert',\n",
       " 'two',\n",
       " 'different',\n",
       " 'request',\n",
       " 'echo',\n",
       " 'would',\n",
       " 'request',\n",
       " 'rephrase',\n",
       " 'see',\n",
       " 'answer',\n",
       " 'build',\n",
       " 'agreement',\n",
       " 'moneybomb',\n",
       " 'redlink',\n",
       " 'give',\n",
       " 'deletion',\n",
       " 'reversion',\n",
       " 'outline',\n",
       " 'article',\n",
       " 'call',\n",
       " 'moneybomb',\n",
       " 'submit',\n",
       " 'afd',\n",
       " 'due',\n",
       " 'time',\n",
       " 'latter',\n",
       " 'see',\n",
       " 'previous',\n",
       " 'version',\n",
       " 'however',\n",
       " 'version',\n",
       " 'require',\n",
       " 'detail',\n",
       " 'answer',\n",
       " 'ambiguity',\n",
       " 'necessitate',\n",
       " 'clarify',\n",
       " 'question']"
      ]
     },
     "execution_count": 15,
     "metadata": {},
     "output_type": "execute_result"
    }
   ],
   "source": [
    "read_data['clean_msg'].iloc[0]"
   ]
  }
 ],
 "metadata": {
  "kernelspec": {
   "display_name": "Python 3.8.10 64-bit",
   "language": "python",
   "name": "python3"
  },
  "language_info": {
   "codemirror_mode": {
    "name": "ipython",
    "version": 3
   },
   "file_extension": ".py",
   "mimetype": "text/x-python",
   "name": "python",
   "nbconvert_exporter": "python",
   "pygments_lexer": "ipython3",
   "version": "3.8.10"
  },
  "orig_nbformat": 4,
  "vscode": {
   "interpreter": {
    "hash": "e7370f93d1d0cde622a1f8e1c04877d8463912d04d973331ad4851f04de6915a"
   }
  }
 },
 "nbformat": 4,
 "nbformat_minor": 2
}
